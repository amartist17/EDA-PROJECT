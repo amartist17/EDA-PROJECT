{
 "cells": [
  {
   "cell_type": "code",
   "execution_count": 1,
   "id": "2f1871b8",
   "metadata": {},
   "outputs": [],
   "source": [
    "import warnings \n",
    "warnings.filterwarnings('ignore')"
   ]
  },
  {
   "cell_type": "code",
   "execution_count": 2,
   "id": "709177ee",
   "metadata": {},
   "outputs": [],
   "source": [
    "import pandas as pd, numpy as np\n",
    "import matplotlib.pyplot as plt, seaborn as sns\n",
    "%matplotlib inline"
   ]
  },
  {
   "cell_type": "markdown",
   "id": "9c7d3c6f",
   "metadata": {},
   "source": [
    "# Importing Dataset"
   ]
  },
  {
   "cell_type": "code",
   "execution_count": 3,
   "id": "1e243cf5",
   "metadata": {},
   "outputs": [
    {
     "data": {
      "text/html": [
       "<div>\n",
       "<style scoped>\n",
       "    .dataframe tbody tr th:only-of-type {\n",
       "        vertical-align: middle;\n",
       "    }\n",
       "\n",
       "    .dataframe tbody tr th {\n",
       "        vertical-align: top;\n",
       "    }\n",
       "\n",
       "    .dataframe thead th {\n",
       "        text-align: right;\n",
       "    }\n",
       "</style>\n",
       "<table border=\"1\" class=\"dataframe\">\n",
       "  <thead>\n",
       "    <tr style=\"text-align: right;\">\n",
       "      <th></th>\n",
       "      <th>Country</th>\n",
       "      <th>Region</th>\n",
       "      <th>Hemisphere</th>\n",
       "      <th>HappinessScore</th>\n",
       "      <th>HDI</th>\n",
       "      <th>GDP_PerCapita</th>\n",
       "      <th>Beer_PerCapita</th>\n",
       "      <th>Spirit_PerCapita</th>\n",
       "      <th>Wine_PerCapita</th>\n",
       "    </tr>\n",
       "  </thead>\n",
       "  <tbody>\n",
       "    <tr>\n",
       "      <th>0</th>\n",
       "      <td>Denmark</td>\n",
       "      <td>Western Europe</td>\n",
       "      <td>north</td>\n",
       "      <td>7.526</td>\n",
       "      <td>928</td>\n",
       "      <td>53.579</td>\n",
       "      <td>224</td>\n",
       "      <td>81</td>\n",
       "      <td>278</td>\n",
       "    </tr>\n",
       "    <tr>\n",
       "      <th>1</th>\n",
       "      <td>Switzerland</td>\n",
       "      <td>Western Europe</td>\n",
       "      <td>north</td>\n",
       "      <td>7.509</td>\n",
       "      <td>943</td>\n",
       "      <td>79.866</td>\n",
       "      <td>185</td>\n",
       "      <td>100</td>\n",
       "      <td>280</td>\n",
       "    </tr>\n",
       "    <tr>\n",
       "      <th>2</th>\n",
       "      <td>Iceland</td>\n",
       "      <td>Western Europe</td>\n",
       "      <td>north</td>\n",
       "      <td>7.501</td>\n",
       "      <td>933</td>\n",
       "      <td>60.530</td>\n",
       "      <td>233</td>\n",
       "      <td>61</td>\n",
       "      <td>78</td>\n",
       "    </tr>\n",
       "    <tr>\n",
       "      <th>3</th>\n",
       "      <td>Norway</td>\n",
       "      <td>Western Europe</td>\n",
       "      <td>north</td>\n",
       "      <td>7.498</td>\n",
       "      <td>951</td>\n",
       "      <td>70.890</td>\n",
       "      <td>169</td>\n",
       "      <td>71</td>\n",
       "      <td>129</td>\n",
       "    </tr>\n",
       "    <tr>\n",
       "      <th>4</th>\n",
       "      <td>Finland</td>\n",
       "      <td>Western Europe</td>\n",
       "      <td>north</td>\n",
       "      <td>7.413</td>\n",
       "      <td>918</td>\n",
       "      <td>43.433</td>\n",
       "      <td>263</td>\n",
       "      <td>133</td>\n",
       "      <td>97</td>\n",
       "    </tr>\n",
       "  </tbody>\n",
       "</table>\n",
       "</div>"
      ],
      "text/plain": [
       "       Country          Region Hemisphere  HappinessScore  HDI  GDP_PerCapita  \\\n",
       "0      Denmark  Western Europe      north           7.526  928         53.579   \n",
       "1  Switzerland  Western Europe      north           7.509  943         79.866   \n",
       "2      Iceland  Western Europe      north           7.501  933         60.530   \n",
       "3       Norway  Western Europe      north           7.498  951         70.890   \n",
       "4      Finland  Western Europe      north           7.413  918         43.433   \n",
       "\n",
       "   Beer_PerCapita  Spirit_PerCapita  Wine_PerCapita  \n",
       "0             224                81             278  \n",
       "1             185               100             280  \n",
       "2             233                61              78  \n",
       "3             169                71             129  \n",
       "4             263               133              97  "
      ]
     },
     "execution_count": 3,
     "metadata": {},
     "output_type": "execute_result"
    }
   ],
   "source": [
    "inp0= pd.read_csv(\"./HappinessAlcoholConsumption.csv\")\n",
    "inp0.head()"
   ]
  },
  {
   "cell_type": "markdown",
   "id": "3e6d2dcd",
   "metadata": {},
   "source": [
    "# Disclamier\n",
    "#### Column GDP_PerCapita in above dataset is incorrect. \n",
    "#### So we will be replacing that column with another dataset's colun GDP"
   ]
  },
  {
   "cell_type": "code",
   "execution_count": 4,
   "id": "ca65ccd8",
   "metadata": {},
   "outputs": [
    {
     "data": {
      "text/html": [
       "<div>\n",
       "<style scoped>\n",
       "    .dataframe tbody tr th:only-of-type {\n",
       "        vertical-align: middle;\n",
       "    }\n",
       "\n",
       "    .dataframe tbody tr th {\n",
       "        vertical-align: top;\n",
       "    }\n",
       "\n",
       "    .dataframe thead th {\n",
       "        text-align: right;\n",
       "    }\n",
       "</style>\n",
       "<table border=\"1\" class=\"dataframe\">\n",
       "  <thead>\n",
       "    <tr style=\"text-align: right;\">\n",
       "      <th></th>\n",
       "      <th>Country</th>\n",
       "      <th>2018</th>\n",
       "    </tr>\n",
       "  </thead>\n",
       "  <tbody>\n",
       "    <tr>\n",
       "      <th>0</th>\n",
       "      <td>Aruba</td>\n",
       "      <td>NaN</td>\n",
       "    </tr>\n",
       "    <tr>\n",
       "      <th>1</th>\n",
       "      <td>Afghanistan</td>\n",
       "      <td>1955.006208</td>\n",
       "    </tr>\n",
       "    <tr>\n",
       "      <th>2</th>\n",
       "      <td>Angola</td>\n",
       "      <td>6452.355165</td>\n",
       "    </tr>\n",
       "    <tr>\n",
       "      <th>3</th>\n",
       "      <td>Albania</td>\n",
       "      <td>13364.155400</td>\n",
       "    </tr>\n",
       "    <tr>\n",
       "      <th>4</th>\n",
       "      <td>Arab World</td>\n",
       "      <td>17570.137600</td>\n",
       "    </tr>\n",
       "  </tbody>\n",
       "</table>\n",
       "</div>"
      ],
      "text/plain": [
       "       Country          2018\n",
       "0        Aruba           NaN\n",
       "1  Afghanistan   1955.006208\n",
       "2       Angola   6452.355165\n",
       "3      Albania  13364.155400\n",
       "4   Arab World  17570.137600"
      ]
     },
     "execution_count": 4,
     "metadata": {},
     "output_type": "execute_result"
    }
   ],
   "source": [
    "gdp= pd.read_csv(\"./GDP.csv\",usecols=['Country', \"2018\"])\n",
    "gdp.head()"
   ]
  },
  {
   "cell_type": "code",
   "execution_count": 5,
   "id": "eff75729",
   "metadata": {},
   "outputs": [],
   "source": [
    "inp1=pd.merge(inp0,gdp,how='left')"
   ]
  },
  {
   "cell_type": "code",
   "execution_count": 6,
   "id": "e25d9066",
   "metadata": {},
   "outputs": [
    {
     "data": {
      "text/html": [
       "<div>\n",
       "<style scoped>\n",
       "    .dataframe tbody tr th:only-of-type {\n",
       "        vertical-align: middle;\n",
       "    }\n",
       "\n",
       "    .dataframe tbody tr th {\n",
       "        vertical-align: top;\n",
       "    }\n",
       "\n",
       "    .dataframe thead th {\n",
       "        text-align: right;\n",
       "    }\n",
       "</style>\n",
       "<table border=\"1\" class=\"dataframe\">\n",
       "  <thead>\n",
       "    <tr style=\"text-align: right;\">\n",
       "      <th></th>\n",
       "      <th>Country</th>\n",
       "      <th>Region</th>\n",
       "      <th>Hemisphere</th>\n",
       "      <th>HappinessScore</th>\n",
       "      <th>HDI</th>\n",
       "      <th>Beer_PerCapita</th>\n",
       "      <th>Spirit_PerCapita</th>\n",
       "      <th>Wine_PerCapita</th>\n",
       "      <th>GDP_PerCapita</th>\n",
       "    </tr>\n",
       "  </thead>\n",
       "  <tbody>\n",
       "    <tr>\n",
       "      <th>0</th>\n",
       "      <td>Denmark</td>\n",
       "      <td>Western Europe</td>\n",
       "      <td>north</td>\n",
       "      <td>7.526</td>\n",
       "      <td>928</td>\n",
       "      <td>224</td>\n",
       "      <td>81</td>\n",
       "      <td>278</td>\n",
       "      <td>55671.16527</td>\n",
       "    </tr>\n",
       "    <tr>\n",
       "      <th>1</th>\n",
       "      <td>Switzerland</td>\n",
       "      <td>Western Europe</td>\n",
       "      <td>north</td>\n",
       "      <td>7.509</td>\n",
       "      <td>943</td>\n",
       "      <td>185</td>\n",
       "      <td>100</td>\n",
       "      <td>280</td>\n",
       "      <td>68060.94105</td>\n",
       "    </tr>\n",
       "    <tr>\n",
       "      <th>2</th>\n",
       "      <td>Iceland</td>\n",
       "      <td>Western Europe</td>\n",
       "      <td>north</td>\n",
       "      <td>7.501</td>\n",
       "      <td>933</td>\n",
       "      <td>233</td>\n",
       "      <td>61</td>\n",
       "      <td>78</td>\n",
       "      <td>57303.06078</td>\n",
       "    </tr>\n",
       "    <tr>\n",
       "      <th>3</th>\n",
       "      <td>Norway</td>\n",
       "      <td>Western Europe</td>\n",
       "      <td>north</td>\n",
       "      <td>7.498</td>\n",
       "      <td>951</td>\n",
       "      <td>169</td>\n",
       "      <td>71</td>\n",
       "      <td>129</td>\n",
       "      <td>65510.58527</td>\n",
       "    </tr>\n",
       "    <tr>\n",
       "      <th>4</th>\n",
       "      <td>Finland</td>\n",
       "      <td>Western Europe</td>\n",
       "      <td>north</td>\n",
       "      <td>7.413</td>\n",
       "      <td>918</td>\n",
       "      <td>263</td>\n",
       "      <td>133</td>\n",
       "      <td>97</td>\n",
       "      <td>48416.93603</td>\n",
       "    </tr>\n",
       "  </tbody>\n",
       "</table>\n",
       "</div>"
      ],
      "text/plain": [
       "       Country          Region Hemisphere  HappinessScore  HDI  \\\n",
       "0      Denmark  Western Europe      north           7.526  928   \n",
       "1  Switzerland  Western Europe      north           7.509  943   \n",
       "2      Iceland  Western Europe      north           7.501  933   \n",
       "3       Norway  Western Europe      north           7.498  951   \n",
       "4      Finland  Western Europe      north           7.413  918   \n",
       "\n",
       "   Beer_PerCapita  Spirit_PerCapita  Wine_PerCapita  GDP_PerCapita  \n",
       "0             224                81             278    55671.16527  \n",
       "1             185               100             280    68060.94105  \n",
       "2             233                61              78    57303.06078  \n",
       "3             169                71             129    65510.58527  \n",
       "4             263               133              97    48416.93603  "
      ]
     },
     "execution_count": 6,
     "metadata": {},
     "output_type": "execute_result"
    }
   ],
   "source": [
    "inp1.drop('GDP_PerCapita',axis=1,inplace= True)\n",
    "inp1.rename(columns={'2018': \"GDP_PerCapita\"},inplace=True)\n",
    "inp1.head()"
   ]
  },
  {
   "cell_type": "markdown",
   "id": "9df46799",
   "metadata": {},
   "source": [
    "# Cleaning Dataset"
   ]
  },
  {
   "cell_type": "markdown",
   "id": "d2a87221",
   "metadata": {},
   "source": [
    "### Looking for null values"
   ]
  },
  {
   "cell_type": "code",
   "execution_count": 7,
   "id": "a06503ca",
   "metadata": {},
   "outputs": [
    {
     "data": {
      "text/plain": [
       "Country             0\n",
       "Region              0\n",
       "Hemisphere          0\n",
       "HappinessScore      0\n",
       "HDI                 0\n",
       "Beer_PerCapita      0\n",
       "Spirit_PerCapita    0\n",
       "Wine_PerCapita      0\n",
       "GDP_PerCapita       3\n",
       "dtype: int64"
      ]
     },
     "execution_count": 7,
     "metadata": {},
     "output_type": "execute_result"
    }
   ],
   "source": [
    "inp1.isnull().sum()"
   ]
  },
  {
   "cell_type": "markdown",
   "id": "61e59a6c",
   "metadata": {},
   "source": [
    "####  We have a few null values"
   ]
  },
  {
   "cell_type": "code",
   "execution_count": 8,
   "id": "d9bd66b1",
   "metadata": {},
   "outputs": [
    {
     "data": {
      "text/html": [
       "<div>\n",
       "<style scoped>\n",
       "    .dataframe tbody tr th:only-of-type {\n",
       "        vertical-align: middle;\n",
       "    }\n",
       "\n",
       "    .dataframe tbody tr th {\n",
       "        vertical-align: top;\n",
       "    }\n",
       "\n",
       "    .dataframe thead th {\n",
       "        text-align: right;\n",
       "    }\n",
       "</style>\n",
       "<table border=\"1\" class=\"dataframe\">\n",
       "  <thead>\n",
       "    <tr style=\"text-align: right;\">\n",
       "      <th></th>\n",
       "      <th>Country</th>\n",
       "      <th>Region</th>\n",
       "      <th>Hemisphere</th>\n",
       "      <th>HappinessScore</th>\n",
       "      <th>HDI</th>\n",
       "      <th>Beer_PerCapita</th>\n",
       "      <th>Spirit_PerCapita</th>\n",
       "      <th>Wine_PerCapita</th>\n",
       "      <th>GDP_PerCapita</th>\n",
       "    </tr>\n",
       "  </thead>\n",
       "  <tbody>\n",
       "    <tr>\n",
       "      <th>38</th>\n",
       "      <td>Venezuela</td>\n",
       "      <td>Latin America and Caribbean</td>\n",
       "      <td>north</td>\n",
       "      <td>6.084</td>\n",
       "      <td>766</td>\n",
       "      <td>333</td>\n",
       "      <td>100</td>\n",
       "      <td>3</td>\n",
       "      <td>NaN</td>\n",
       "    </tr>\n",
       "    <tr>\n",
       "      <th>39</th>\n",
       "      <td>Slovakia</td>\n",
       "      <td>Central and Eastern Europe</td>\n",
       "      <td>north</td>\n",
       "      <td>6.078</td>\n",
       "      <td>853</td>\n",
       "      <td>196</td>\n",
       "      <td>293</td>\n",
       "      <td>116</td>\n",
       "      <td>NaN</td>\n",
       "    </tr>\n",
       "    <tr>\n",
       "      <th>121</th>\n",
       "      <td>Syria</td>\n",
       "      <td>Middle East and Northern Africa</td>\n",
       "      <td>north</td>\n",
       "      <td>3.069</td>\n",
       "      <td>536</td>\n",
       "      <td>5</td>\n",
       "      <td>35</td>\n",
       "      <td>16</td>\n",
       "      <td>NaN</td>\n",
       "    </tr>\n",
       "  </tbody>\n",
       "</table>\n",
       "</div>"
      ],
      "text/plain": [
       "       Country                           Region Hemisphere  HappinessScore  \\\n",
       "38   Venezuela      Latin America and Caribbean      north           6.084   \n",
       "39    Slovakia       Central and Eastern Europe      north           6.078   \n",
       "121      Syria  Middle East and Northern Africa      north           3.069   \n",
       "\n",
       "     HDI  Beer_PerCapita  Spirit_PerCapita  Wine_PerCapita  GDP_PerCapita  \n",
       "38   766             333               100               3            NaN  \n",
       "39   853             196               293             116            NaN  \n",
       "121  536               5                35              16            NaN  "
      ]
     },
     "execution_count": 8,
     "metadata": {},
     "output_type": "execute_result"
    }
   ],
   "source": [
    "inp1[inp1['GDP_PerCapita'].isna()]"
   ]
  },
  {
   "cell_type": "markdown",
   "id": "372d4b2c",
   "metadata": {},
   "source": [
    "#### According to google \n",
    "##### Venezuela=3534\n",
    "##### Slovakia= 19389.98\n",
    "##### Syria= 1265.61"
   ]
  },
  {
   "cell_type": "code",
   "execution_count": 9,
   "id": "f4a51155",
   "metadata": {},
   "outputs": [
    {
     "data": {
      "text/plain": [
       "Country             0\n",
       "Region              0\n",
       "Hemisphere          0\n",
       "HappinessScore      0\n",
       "HDI                 0\n",
       "Beer_PerCapita      0\n",
       "Spirit_PerCapita    0\n",
       "Wine_PerCapita      0\n",
       "GDP_PerCapita       0\n",
       "dtype: int64"
      ]
     },
     "execution_count": 9,
     "metadata": {},
     "output_type": "execute_result"
    }
   ],
   "source": [
    "inp1.loc[inp1.Country== 'Venezuela',\"GDP_PerCapita\"]= 3534\n",
    "inp1.loc[inp1.Country== 'Slovakia',\"GDP_PerCapita\"]= 19389.98\n",
    "inp1.loc[inp1.Country== 'Syria',\"GDP_PerCapita\"]= 1265.61\n",
    "inp1.isnull().sum()"
   ]
  },
  {
   "cell_type": "markdown",
   "id": "170399c8",
   "metadata": {},
   "source": [
    "### Looking for any logically null/improper value (like -1)"
   ]
  },
  {
   "cell_type": "code",
   "execution_count": 10,
   "id": "4241a6a7",
   "metadata": {},
   "outputs": [
    {
     "data": {
      "text/html": [
       "<div>\n",
       "<style scoped>\n",
       "    .dataframe tbody tr th:only-of-type {\n",
       "        vertical-align: middle;\n",
       "    }\n",
       "\n",
       "    .dataframe tbody tr th {\n",
       "        vertical-align: top;\n",
       "    }\n",
       "\n",
       "    .dataframe thead th {\n",
       "        text-align: right;\n",
       "    }\n",
       "</style>\n",
       "<table border=\"1\" class=\"dataframe\">\n",
       "  <thead>\n",
       "    <tr style=\"text-align: right;\">\n",
       "      <th></th>\n",
       "      <th>HappinessScore</th>\n",
       "      <th>HDI</th>\n",
       "      <th>Beer_PerCapita</th>\n",
       "      <th>Spirit_PerCapita</th>\n",
       "      <th>Wine_PerCapita</th>\n",
       "      <th>GDP_PerCapita</th>\n",
       "    </tr>\n",
       "  </thead>\n",
       "  <tbody>\n",
       "    <tr>\n",
       "      <th>count</th>\n",
       "      <td>122.000000</td>\n",
       "      <td>122.000000</td>\n",
       "      <td>122.000000</td>\n",
       "      <td>122.000000</td>\n",
       "      <td>122.000000</td>\n",
       "      <td>122.000000</td>\n",
       "    </tr>\n",
       "    <tr>\n",
       "      <th>mean</th>\n",
       "      <td>5.524828</td>\n",
       "      <td>740.877049</td>\n",
       "      <td>137.565574</td>\n",
       "      <td>96.598361</td>\n",
       "      <td>66.598361</td>\n",
       "      <td>24430.952753</td>\n",
       "    </tr>\n",
       "    <tr>\n",
       "      <th>std</th>\n",
       "      <td>1.148736</td>\n",
       "      <td>149.846124</td>\n",
       "      <td>104.817353</td>\n",
       "      <td>81.435028</td>\n",
       "      <td>88.121503</td>\n",
       "      <td>23622.095085</td>\n",
       "    </tr>\n",
       "    <tr>\n",
       "      <th>min</th>\n",
       "      <td>3.069000</td>\n",
       "      <td>351.000000</td>\n",
       "      <td>1.000000</td>\n",
       "      <td>1.000000</td>\n",
       "      <td>1.000000</td>\n",
       "      <td>932.172007</td>\n",
       "    </tr>\n",
       "    <tr>\n",
       "      <th>25%</th>\n",
       "      <td>4.528250</td>\n",
       "      <td>663.750000</td>\n",
       "      <td>38.250000</td>\n",
       "      <td>25.500000</td>\n",
       "      <td>5.000000</td>\n",
       "      <td>7315.685023</td>\n",
       "    </tr>\n",
       "    <tr>\n",
       "      <th>50%</th>\n",
       "      <td>5.542000</td>\n",
       "      <td>757.500000</td>\n",
       "      <td>125.500000</td>\n",
       "      <td>82.500000</td>\n",
       "      <td>16.000000</td>\n",
       "      <td>17709.640335</td>\n",
       "    </tr>\n",
       "    <tr>\n",
       "      <th>75%</th>\n",
       "      <td>6.477000</td>\n",
       "      <td>861.500000</td>\n",
       "      <td>224.750000</td>\n",
       "      <td>142.500000</td>\n",
       "      <td>112.750000</td>\n",
       "      <td>37530.032610</td>\n",
       "    </tr>\n",
       "    <tr>\n",
       "      <th>max</th>\n",
       "      <td>7.526000</td>\n",
       "      <td>951.000000</td>\n",
       "      <td>376.000000</td>\n",
       "      <td>373.000000</td>\n",
       "      <td>370.000000</td>\n",
       "      <td>126898.425900</td>\n",
       "    </tr>\n",
       "  </tbody>\n",
       "</table>\n",
       "</div>"
      ],
      "text/plain": [
       "       HappinessScore         HDI  Beer_PerCapita  Spirit_PerCapita  \\\n",
       "count      122.000000  122.000000      122.000000        122.000000   \n",
       "mean         5.524828  740.877049      137.565574         96.598361   \n",
       "std          1.148736  149.846124      104.817353         81.435028   \n",
       "min          3.069000  351.000000        1.000000          1.000000   \n",
       "25%          4.528250  663.750000       38.250000         25.500000   \n",
       "50%          5.542000  757.500000      125.500000         82.500000   \n",
       "75%          6.477000  861.500000      224.750000        142.500000   \n",
       "max          7.526000  951.000000      376.000000        373.000000   \n",
       "\n",
       "       Wine_PerCapita  GDP_PerCapita  \n",
       "count      122.000000     122.000000  \n",
       "mean        66.598361   24430.952753  \n",
       "std         88.121503   23622.095085  \n",
       "min          1.000000     932.172007  \n",
       "25%          5.000000    7315.685023  \n",
       "50%         16.000000   17709.640335  \n",
       "75%        112.750000   37530.032610  \n",
       "max        370.000000  126898.425900  "
      ]
     },
     "execution_count": 10,
     "metadata": {},
     "output_type": "execute_result"
    }
   ],
   "source": [
    "inp1.describe()"
   ]
  },
  {
   "cell_type": "markdown",
   "id": "1f5c38f4",
   "metadata": {},
   "source": [
    "#### Dataset is clean but might have some outliers"
   ]
  },
  {
   "cell_type": "markdown",
   "id": "d9cf74ac",
   "metadata": {},
   "source": [
    "# Looking for outliers"
   ]
  },
  {
   "cell_type": "markdown",
   "id": "bd7fe021",
   "metadata": {},
   "source": [
    "### in GDP_PerCapita"
   ]
  },
  {
   "cell_type": "code",
   "execution_count": 11,
   "id": "e7a3b617",
   "metadata": {},
   "outputs": [
    {
     "data": {
      "text/plain": [
       "<AxesSubplot:xlabel='GDP_PerCapita'>"
      ]
     },
     "execution_count": 11,
     "metadata": {},
     "output_type": "execute_result"
    },
    {
     "data": {
      "image/png": "[encoded data removed]",
      "text/plain": [
       "<Figure size 576x144 with 1 Axes>"
      ]
     },
     "metadata": {
      "needs_background": "light"
     },
     "output_type": "display_data"
    }
   ],
   "source": [
    "plt.figure(figsize=[8,2])\n",
    "sns.boxplot(inp1.GDP_PerCapita)"
   ]
  },
  {
   "cell_type": "code",
   "execution_count": 12,
   "id": "5bb41a01",
   "metadata": {},
   "outputs": [
    {
     "data": {
      "text/plain": [
       "0.50     17709.640335\n",
       "0.75     37530.032610\n",
       "0.90     53195.449936\n",
       "0.95     65374.785289\n",
       "0.99    110858.204537\n",
       "Name: GDP_PerCapita, dtype: float64"
      ]
     },
     "execution_count": 12,
     "metadata": {},
     "output_type": "execute_result"
    }
   ],
   "source": [
    "inp1.GDP_PerCapita.quantile([.5,.75,.9,.95,.99])"
   ]
  },
  {
   "cell_type": "code",
   "execution_count": 13,
   "id": "db8ded31",
   "metadata": {},
   "outputs": [
    {
     "data": {
      "text/html": [
       "<div>\n",
       "<style scoped>\n",
       "    .dataframe tbody tr th:only-of-type {\n",
       "        vertical-align: middle;\n",
       "    }\n",
       "\n",
       "    .dataframe tbody tr th {\n",
       "        vertical-align: top;\n",
       "    }\n",
       "\n",
       "    .dataframe thead th {\n",
       "        text-align: right;\n",
       "    }\n",
       "</style>\n",
       "<table border=\"1\" class=\"dataframe\">\n",
       "  <thead>\n",
       "    <tr style=\"text-align: right;\">\n",
       "      <th></th>\n",
       "      <th>Country</th>\n",
       "      <th>Region</th>\n",
       "      <th>Hemisphere</th>\n",
       "      <th>HappinessScore</th>\n",
       "      <th>HDI</th>\n",
       "      <th>Beer_PerCapita</th>\n",
       "      <th>Spirit_PerCapita</th>\n",
       "      <th>Wine_PerCapita</th>\n",
       "      <th>GDP_PerCapita</th>\n",
       "    </tr>\n",
       "  </thead>\n",
       "  <tbody>\n",
       "    <tr>\n",
       "      <th>1</th>\n",
       "      <td>Switzerland</td>\n",
       "      <td>Western Europe</td>\n",
       "      <td>north</td>\n",
       "      <td>7.509</td>\n",
       "      <td>943</td>\n",
       "      <td>185</td>\n",
       "      <td>100</td>\n",
       "      <td>280</td>\n",
       "      <td>68060.94105</td>\n",
       "    </tr>\n",
       "    <tr>\n",
       "      <th>17</th>\n",
       "      <td>Ireland</td>\n",
       "      <td>Western Europe</td>\n",
       "      <td>north</td>\n",
       "      <td>6.907</td>\n",
       "      <td>934</td>\n",
       "      <td>313</td>\n",
       "      <td>118</td>\n",
       "      <td>165</td>\n",
       "      <td>83203.39468</td>\n",
       "    </tr>\n",
       "    <tr>\n",
       "      <th>18</th>\n",
       "      <td>Luxembourg</td>\n",
       "      <td>Western Europe</td>\n",
       "      <td>north</td>\n",
       "      <td>6.871</td>\n",
       "      <td>904</td>\n",
       "      <td>236</td>\n",
       "      <td>133</td>\n",
       "      <td>271</td>\n",
       "      <td>113337.42050</td>\n",
       "    </tr>\n",
       "    <tr>\n",
       "      <th>20</th>\n",
       "      <td>Singapore</td>\n",
       "      <td>Southeastern Asia</td>\n",
       "      <td>north</td>\n",
       "      <td>6.739</td>\n",
       "      <td>930</td>\n",
       "      <td>60</td>\n",
       "      <td>12</td>\n",
       "      <td>11</td>\n",
       "      <td>101531.63020</td>\n",
       "    </tr>\n",
       "    <tr>\n",
       "      <th>26</th>\n",
       "      <td>United Arab Emirates</td>\n",
       "      <td>Middle East and Northern Africa</td>\n",
       "      <td>north</td>\n",
       "      <td>6.573</td>\n",
       "      <td>862</td>\n",
       "      <td>16</td>\n",
       "      <td>135</td>\n",
       "      <td>5</td>\n",
       "      <td>75075.25741</td>\n",
       "    </tr>\n",
       "    <tr>\n",
       "      <th>32</th>\n",
       "      <td>Qatar</td>\n",
       "      <td>Middle East and Northern Africa</td>\n",
       "      <td>north</td>\n",
       "      <td>6.375</td>\n",
       "      <td>855</td>\n",
       "      <td>1</td>\n",
       "      <td>42</td>\n",
       "      <td>7</td>\n",
       "      <td>126898.42590</td>\n",
       "    </tr>\n",
       "  </tbody>\n",
       "</table>\n",
       "</div>"
      ],
      "text/plain": [
       "                 Country                           Region Hemisphere  \\\n",
       "1            Switzerland                   Western Europe      north   \n",
       "17               Ireland                   Western Europe      north   \n",
       "18            Luxembourg                   Western Europe      north   \n",
       "20             Singapore                Southeastern Asia      north   \n",
       "26  United Arab Emirates  Middle East and Northern Africa      north   \n",
       "32                 Qatar  Middle East and Northern Africa      north   \n",
       "\n",
       "    HappinessScore  HDI  Beer_PerCapita  Spirit_PerCapita  Wine_PerCapita  \\\n",
       "1            7.509  943             185               100             280   \n",
       "17           6.907  934             313               118             165   \n",
       "18           6.871  904             236               133             271   \n",
       "20           6.739  930              60                12              11   \n",
       "26           6.573  862              16               135               5   \n",
       "32           6.375  855               1                42               7   \n",
       "\n",
       "    GDP_PerCapita  \n",
       "1     68060.94105  \n",
       "17    83203.39468  \n",
       "18   113337.42050  \n",
       "20   101531.63020  \n",
       "26    75075.25741  \n",
       "32   126898.42590  "
      ]
     },
     "execution_count": 13,
     "metadata": {},
     "output_type": "execute_result"
    }
   ],
   "source": [
    "inp1[inp1.GDP_PerCapita>66530]"
   ]
  },
  {
   "cell_type": "markdown",
   "id": "586e783f",
   "metadata": {},
   "source": [
    "#### As all of these countries' data is important, we cant ruleout them.\n",
    "#### To avoid further issues we will work mostly on persentiles and medians"
   ]
  },
  {
   "cell_type": "code",
   "execution_count": null,
   "id": "ae88d95e",
   "metadata": {},
   "outputs": [],
   "source": []
  },
  {
   "cell_type": "markdown",
   "id": "c53f4407",
   "metadata": {},
   "source": [
    "# Univariate Analysis"
   ]
  },
  {
   "cell_type": "markdown",
   "id": "00275546",
   "metadata": {},
   "source": [
    "### Region"
   ]
  },
  {
   "cell_type": "code",
   "execution_count": 14,
   "id": "f40715e4",
   "metadata": {},
   "outputs": [
    {
     "data": {
      "text/plain": [
       "Sub-Saharan Africa                 28\n",
       "Central and Eastern Europe         27\n",
       "Latin America and Caribbean        23\n",
       "Western Europe                     20\n",
       "Middle East and Northern Africa    11\n",
       "Southeastern Asia                   5\n",
       "Eastern Asia                        4\n",
       "North America                       2\n",
       "Australia and New Zealand           2\n",
       "Name: Region, dtype: int64"
      ]
     },
     "execution_count": 14,
     "metadata": {},
     "output_type": "execute_result"
    }
   ],
   "source": [
    "inp1.Region.value_counts()"
   ]
  },
  {
   "cell_type": "code",
   "execution_count": 15,
   "id": "9839edb1",
   "metadata": {},
   "outputs": [
    {
     "data": {
      "image/png": "[encoded data removed]",
      "text/plain": [
       "<Figure size 432x288 with 1 Axes>"
      ]
     },
     "metadata": {},
     "output_type": "display_data"
    }
   ],
   "source": [
    "inp1.Region.value_counts().plot.pie()\n",
    "plt.show()"
   ]
  },
  {
   "cell_type": "markdown",
   "id": "1f852185",
   "metadata": {},
   "source": [
    "### Hemisphere"
   ]
  },
  {
   "cell_type": "code",
   "execution_count": 16,
   "id": "0865ea8b",
   "metadata": {},
   "outputs": [
    {
     "data": {
      "text/plain": [
       "north    92\n",
       "south    21\n",
       "both      5\n",
       "noth      4\n",
       "Name: Hemisphere, dtype: int64"
      ]
     },
     "execution_count": 16,
     "metadata": {},
     "output_type": "execute_result"
    }
   ],
   "source": [
    "inp1.Hemisphere.value_counts()"
   ]
  },
  {
   "cell_type": "markdown",
   "id": "0694badc",
   "metadata": {},
   "source": [
    "#### Fixing values"
   ]
  },
  {
   "cell_type": "code",
   "execution_count": 17,
   "id": "84db97d2",
   "metadata": {},
   "outputs": [
    {
     "data": {
      "text/html": [
       "<div>\n",
       "<style scoped>\n",
       "    .dataframe tbody tr th:only-of-type {\n",
       "        vertical-align: middle;\n",
       "    }\n",
       "\n",
       "    .dataframe tbody tr th {\n",
       "        vertical-align: top;\n",
       "    }\n",
       "\n",
       "    .dataframe thead th {\n",
       "        text-align: right;\n",
       "    }\n",
       "</style>\n",
       "<table border=\"1\" class=\"dataframe\">\n",
       "  <thead>\n",
       "    <tr style=\"text-align: right;\">\n",
       "      <th></th>\n",
       "      <th>Country</th>\n",
       "      <th>Region</th>\n",
       "      <th>Hemisphere</th>\n",
       "      <th>HappinessScore</th>\n",
       "      <th>HDI</th>\n",
       "      <th>Beer_PerCapita</th>\n",
       "      <th>Spirit_PerCapita</th>\n",
       "      <th>Wine_PerCapita</th>\n",
       "      <th>GDP_PerCapita</th>\n",
       "    </tr>\n",
       "  </thead>\n",
       "  <tbody>\n",
       "    <tr>\n",
       "      <th>46</th>\n",
       "      <td>Japan</td>\n",
       "      <td>Eastern Asia</td>\n",
       "      <td>noth</td>\n",
       "      <td>5.921</td>\n",
       "      <td>907</td>\n",
       "      <td>77</td>\n",
       "      <td>202</td>\n",
       "      <td>16</td>\n",
       "      <td>42797.45852</td>\n",
       "    </tr>\n",
       "    <tr>\n",
       "      <th>51</th>\n",
       "      <td>South Korea</td>\n",
       "      <td>Eastern Asia</td>\n",
       "      <td>noth</td>\n",
       "      <td>5.835</td>\n",
       "      <td>900</td>\n",
       "      <td>140</td>\n",
       "      <td>16</td>\n",
       "      <td>9</td>\n",
       "      <td>40111.77576</td>\n",
       "    </tr>\n",
       "    <tr>\n",
       "      <th>70</th>\n",
       "      <td>China</td>\n",
       "      <td>Eastern Asia</td>\n",
       "      <td>noth</td>\n",
       "      <td>5.245</td>\n",
       "      <td>748</td>\n",
       "      <td>79</td>\n",
       "      <td>192</td>\n",
       "      <td>8</td>\n",
       "      <td>18236.61298</td>\n",
       "    </tr>\n",
       "    <tr>\n",
       "      <th>84</th>\n",
       "      <td>Mongolia</td>\n",
       "      <td>Eastern Asia</td>\n",
       "      <td>noth</td>\n",
       "      <td>4.907</td>\n",
       "      <td>743</td>\n",
       "      <td>77</td>\n",
       "      <td>189</td>\n",
       "      <td>8</td>\n",
       "      <td>13799.90485</td>\n",
       "    </tr>\n",
       "  </tbody>\n",
       "</table>\n",
       "</div>"
      ],
      "text/plain": [
       "        Country        Region Hemisphere  HappinessScore  HDI  Beer_PerCapita  \\\n",
       "46        Japan  Eastern Asia       noth           5.921  907              77   \n",
       "51  South Korea  Eastern Asia       noth           5.835  900             140   \n",
       "70        China  Eastern Asia       noth           5.245  748              79   \n",
       "84     Mongolia  Eastern Asia       noth           4.907  743              77   \n",
       "\n",
       "    Spirit_PerCapita  Wine_PerCapita  GDP_PerCapita  \n",
       "46               202              16    42797.45852  \n",
       "51                16               9    40111.77576  \n",
       "70               192               8    18236.61298  \n",
       "84               189               8    13799.90485  "
      ]
     },
     "execution_count": 17,
     "metadata": {},
     "output_type": "execute_result"
    }
   ],
   "source": [
    "inp1[inp1.Hemisphere==\"noth\"]"
   ]
  },
  {
   "cell_type": "code",
   "execution_count": 18,
   "id": "62ef5c1f",
   "metadata": {},
   "outputs": [
    {
     "data": {
      "text/plain": [
       "north    96\n",
       "south    21\n",
       "both      5\n",
       "Name: Hemisphere, dtype: int64"
      ]
     },
     "execution_count": 18,
     "metadata": {},
     "output_type": "execute_result"
    }
   ],
   "source": [
    "inp1.loc[inp1.Hemisphere==\"noth\",'Hemisphere']=\"north\"\n",
    "inp1.Hemisphere.value_counts()"
   ]
  },
  {
   "cell_type": "code",
   "execution_count": 19,
   "id": "1e5d1fa0",
   "metadata": {
    "scrolled": true
   },
   "outputs": [
    {
     "data": {
      "text/plain": [
       "<AxesSubplot:ylabel='Hemisphere'>"
      ]
     },
     "execution_count": 19,
     "metadata": {},
     "output_type": "execute_result"
    },
    {
     "data": {
      "image/png": "[encoded data removed]",
      "text/plain": [
       "<Figure size 432x288 with 1 Axes>"
      ]
     },
     "metadata": {},
     "output_type": "display_data"
    }
   ],
   "source": [
    "inp1.Hemisphere.value_counts().plot.pie()"
   ]
  },
  {
   "cell_type": "markdown",
   "id": "d40fd82f",
   "metadata": {},
   "source": [
    "### Happiness Score"
   ]
  },
  {
   "cell_type": "code",
   "execution_count": 20,
   "id": "2811ed68",
   "metadata": {},
   "outputs": [
    {
     "data": {
      "text/plain": [
       "count    122.000000\n",
       "mean       5.524828\n",
       "std        1.148736\n",
       "min        3.069000\n",
       "25%        4.528250\n",
       "50%        5.542000\n",
       "75%        6.477000\n",
       "max        7.526000\n",
       "Name: HappinessScore, dtype: float64"
      ]
     },
     "execution_count": 20,
     "metadata": {},
     "output_type": "execute_result"
    }
   ],
   "source": [
    "inp1.HappinessScore.describe()"
   ]
  },
  {
   "cell_type": "code",
   "execution_count": 21,
   "id": "7791d64f",
   "metadata": {},
   "outputs": [
    {
     "data": {
      "text/plain": [
       "<AxesSubplot:xlabel='HappinessScore'>"
      ]
     },
     "execution_count": 21,
     "metadata": {},
     "output_type": "execute_result"
    },
    {
     "data": {
      "image/png": "[encoded data removed]",
      "text/plain": [
       "<Figure size 432x288 with 1 Axes>"
      ]
     },
     "metadata": {
      "needs_background": "light"
     },
     "output_type": "display_data"
    }
   ],
   "source": [
    "sns.boxplot(x=inp1[\"HappinessScore\"])"
   ]
  },
  {
   "cell_type": "code",
   "execution_count": 22,
   "id": "2545e359",
   "metadata": {},
   "outputs": [
    {
     "data": {
      "text/html": [
       "<div>\n",
       "<style scoped>\n",
       "    .dataframe tbody tr th:only-of-type {\n",
       "        vertical-align: middle;\n",
       "    }\n",
       "\n",
       "    .dataframe tbody tr th {\n",
       "        vertical-align: top;\n",
       "    }\n",
       "\n",
       "    .dataframe thead th {\n",
       "        text-align: right;\n",
       "    }\n",
       "</style>\n",
       "<table border=\"1\" class=\"dataframe\">\n",
       "  <thead>\n",
       "    <tr style=\"text-align: right;\">\n",
       "      <th></th>\n",
       "      <th>Country</th>\n",
       "      <th>HappinessScore</th>\n",
       "    </tr>\n",
       "  </thead>\n",
       "  <tbody>\n",
       "    <tr>\n",
       "      <th>0</th>\n",
       "      <td>Denmark</td>\n",
       "      <td>7.526</td>\n",
       "    </tr>\n",
       "    <tr>\n",
       "      <th>1</th>\n",
       "      <td>Switzerland</td>\n",
       "      <td>7.509</td>\n",
       "    </tr>\n",
       "    <tr>\n",
       "      <th>2</th>\n",
       "      <td>Iceland</td>\n",
       "      <td>7.501</td>\n",
       "    </tr>\n",
       "  </tbody>\n",
       "</table>\n",
       "</div>"
      ],
      "text/plain": [
       "       Country  HappinessScore\n",
       "0      Denmark           7.526\n",
       "1  Switzerland           7.509\n",
       "2      Iceland           7.501"
      ]
     },
     "execution_count": 22,
     "metadata": {},
     "output_type": "execute_result"
    }
   ],
   "source": [
    "inp1[inp1.HappinessScore>7.5][['Country','HappinessScore']].sort_values(by=['HappinessScore'],ascending=False)"
   ]
  },
  {
   "cell_type": "markdown",
   "id": "03b09dda",
   "metadata": {},
   "source": [
    "#### These are the happiest countries"
   ]
  },
  {
   "cell_type": "code",
   "execution_count": 23,
   "id": "7b0c0140",
   "metadata": {},
   "outputs": [
    {
     "data": {
      "text/html": [
       "<div>\n",
       "<style scoped>\n",
       "    .dataframe tbody tr th:only-of-type {\n",
       "        vertical-align: middle;\n",
       "    }\n",
       "\n",
       "    .dataframe tbody tr th {\n",
       "        vertical-align: top;\n",
       "    }\n",
       "\n",
       "    .dataframe thead th {\n",
       "        text-align: right;\n",
       "    }\n",
       "</style>\n",
       "<table border=\"1\" class=\"dataframe\">\n",
       "  <thead>\n",
       "    <tr style=\"text-align: right;\">\n",
       "      <th></th>\n",
       "      <th>Country</th>\n",
       "      <th>HappinessScore</th>\n",
       "    </tr>\n",
       "  </thead>\n",
       "  <tbody>\n",
       "    <tr>\n",
       "      <th>121</th>\n",
       "      <td>Syria</td>\n",
       "      <td>3.069</td>\n",
       "    </tr>\n",
       "    <tr>\n",
       "      <th>120</th>\n",
       "      <td>Togo</td>\n",
       "      <td>3.303</td>\n",
       "    </tr>\n",
       "    <tr>\n",
       "      <th>119</th>\n",
       "      <td>Benin</td>\n",
       "      <td>3.484</td>\n",
       "    </tr>\n",
       "  </tbody>\n",
       "</table>\n",
       "</div>"
      ],
      "text/plain": [
       "    Country  HappinessScore\n",
       "121   Syria           3.069\n",
       "120    Togo           3.303\n",
       "119   Benin           3.484"
      ]
     },
     "execution_count": 23,
     "metadata": {},
     "output_type": "execute_result"
    }
   ],
   "source": [
    "inp1[inp1.HappinessScore<3.5][['Country','HappinessScore']].sort_values(by=['HappinessScore'])"
   ]
  },
  {
   "cell_type": "markdown",
   "id": "60c59f19",
   "metadata": {},
   "source": [
    "##### These Countries have the lowest of Happiness Score\n",
    "##### We can see all the countries are from african continent"
   ]
  },
  {
   "cell_type": "markdown",
   "id": "9cfdbb43",
   "metadata": {},
   "source": [
    "### HDI (Human Development Index)"
   ]
  },
  {
   "cell_type": "code",
   "execution_count": 24,
   "id": "0c8f1efa",
   "metadata": {},
   "outputs": [
    {
     "data": {
      "text/plain": [
       "count    122.000000\n",
       "mean     740.877049\n",
       "std      149.846124\n",
       "min      351.000000\n",
       "25%      663.750000\n",
       "50%      757.500000\n",
       "75%      861.500000\n",
       "max      951.000000\n",
       "Name: HDI, dtype: float64"
      ]
     },
     "execution_count": 24,
     "metadata": {},
     "output_type": "execute_result"
    }
   ],
   "source": [
    "inp1.HDI.describe()"
   ]
  },
  {
   "cell_type": "code",
   "execution_count": 25,
   "id": "13bfd101",
   "metadata": {},
   "outputs": [
    {
     "data": {
      "text/plain": [
       "<AxesSubplot:xlabel='HDI'>"
      ]
     },
     "execution_count": 25,
     "metadata": {},
     "output_type": "execute_result"
    },
    {
     "data": {
      "image/png": "[encoded data removed]",
      "text/plain": [
       "<Figure size 432x288 with 1 Axes>"
      ]
     },
     "metadata": {
      "needs_background": "light"
     },
     "output_type": "display_data"
    }
   ],
   "source": [
    "sns.boxplot(x=inp1[\"HDI\"])"
   ]
  },
  {
   "cell_type": "code",
   "execution_count": 26,
   "id": "20e13a4b",
   "metadata": {},
   "outputs": [
    {
     "data": {
      "text/html": [
       "<div>\n",
       "<style scoped>\n",
       "    .dataframe tbody tr th:only-of-type {\n",
       "        vertical-align: middle;\n",
       "    }\n",
       "\n",
       "    .dataframe tbody tr th {\n",
       "        vertical-align: top;\n",
       "    }\n",
       "\n",
       "    .dataframe thead th {\n",
       "        text-align: right;\n",
       "    }\n",
       "</style>\n",
       "<table border=\"1\" class=\"dataframe\">\n",
       "  <thead>\n",
       "    <tr style=\"text-align: right;\">\n",
       "      <th></th>\n",
       "      <th>Country</th>\n",
       "      <th>HDI</th>\n",
       "    </tr>\n",
       "  </thead>\n",
       "  <tbody>\n",
       "    <tr>\n",
       "      <th>3</th>\n",
       "      <td>Norway</td>\n",
       "      <td>951</td>\n",
       "    </tr>\n",
       "    <tr>\n",
       "      <th>1</th>\n",
       "      <td>Switzerland</td>\n",
       "      <td>943</td>\n",
       "    </tr>\n",
       "    <tr>\n",
       "      <th>8</th>\n",
       "      <td>Australia</td>\n",
       "      <td>938</td>\n",
       "    </tr>\n",
       "    <tr>\n",
       "      <th>14</th>\n",
       "      <td>Germany</td>\n",
       "      <td>934</td>\n",
       "    </tr>\n",
       "    <tr>\n",
       "      <th>17</th>\n",
       "      <td>Ireland</td>\n",
       "      <td>934</td>\n",
       "    </tr>\n",
       "    <tr>\n",
       "      <th>2</th>\n",
       "      <td>Iceland</td>\n",
       "      <td>933</td>\n",
       "    </tr>\n",
       "    <tr>\n",
       "      <th>9</th>\n",
       "      <td>Sweden</td>\n",
       "      <td>932</td>\n",
       "    </tr>\n",
       "  </tbody>\n",
       "</table>\n",
       "</div>"
      ],
      "text/plain": [
       "        Country  HDI\n",
       "3        Norway  951\n",
       "1   Switzerland  943\n",
       "8     Australia  938\n",
       "14      Germany  934\n",
       "17      Ireland  934\n",
       "2       Iceland  933\n",
       "9        Sweden  932"
      ]
     },
     "execution_count": 26,
     "metadata": {},
     "output_type": "execute_result"
    }
   ],
   "source": [
    "inp1[inp1.HDI>930][['Country','HDI']].sort_values(by=['HDI'],ascending=False)"
   ]
  },
  {
   "cell_type": "markdown",
   "id": "484aa7b6",
   "metadata": {},
   "source": [
    "##### These countries have heighest human development index"
   ]
  },
  {
   "cell_type": "code",
   "execution_count": 27,
   "id": "8b0a6848",
   "metadata": {},
   "outputs": [
    {
     "data": {
      "text/html": [
       "<div>\n",
       "<style scoped>\n",
       "    .dataframe tbody tr th:only-of-type {\n",
       "        vertical-align: middle;\n",
       "    }\n",
       "\n",
       "    .dataframe tbody tr th {\n",
       "        vertical-align: top;\n",
       "    }\n",
       "\n",
       "    .dataframe thead th {\n",
       "        text-align: right;\n",
       "    }\n",
       "</style>\n",
       "<table border=\"1\" class=\"dataframe\">\n",
       "  <thead>\n",
       "    <tr style=\"text-align: right;\">\n",
       "      <th></th>\n",
       "      <th>Country</th>\n",
       "      <th>HDI</th>\n",
       "    </tr>\n",
       "  </thead>\n",
       "  <tbody>\n",
       "    <tr>\n",
       "      <th>113</th>\n",
       "      <td>Niger</td>\n",
       "      <td>351</td>\n",
       "    </tr>\n",
       "  </tbody>\n",
       "</table>\n",
       "</div>"
      ],
      "text/plain": [
       "    Country  HDI\n",
       "113   Niger  351"
      ]
     },
     "execution_count": 27,
     "metadata": {},
     "output_type": "execute_result"
    }
   ],
   "source": [
    "inp1[inp1.HDI<400][['Country','HDI']].sort_values(by=['HDI'],ascending=False)"
   ]
  },
  {
   "cell_type": "markdown",
   "id": "4e5368d7",
   "metadata": {},
   "source": [
    "##### Niger has the lowest human development index"
   ]
  },
  {
   "cell_type": "markdown",
   "id": "c08724f4",
   "metadata": {},
   "source": [
    "## Beer Spirit and Wine per capita"
   ]
  },
  {
   "cell_type": "code",
   "execution_count": 28,
   "id": "639a69c6",
   "metadata": {},
   "outputs": [
    {
     "data": {
      "text/plain": [
       "count    122.000000\n",
       "mean     137.565574\n",
       "std      104.817353\n",
       "min        1.000000\n",
       "25%       38.250000\n",
       "50%      125.500000\n",
       "75%      224.750000\n",
       "max      376.000000\n",
       "Name: Beer_PerCapita, dtype: float64"
      ]
     },
     "execution_count": 28,
     "metadata": {},
     "output_type": "execute_result"
    }
   ],
   "source": [
    "inp1.Beer_PerCapita.describe()"
   ]
  },
  {
   "cell_type": "code",
   "execution_count": 29,
   "id": "62f86ae6",
   "metadata": {},
   "outputs": [
    {
     "data": {
      "text/plain": [
       "count    122.000000\n",
       "mean      96.598361\n",
       "std       81.435028\n",
       "min        1.000000\n",
       "25%       25.500000\n",
       "50%       82.500000\n",
       "75%      142.500000\n",
       "max      373.000000\n",
       "Name: Spirit_PerCapita, dtype: float64"
      ]
     },
     "execution_count": 29,
     "metadata": {},
     "output_type": "execute_result"
    }
   ],
   "source": [
    "inp1.Spirit_PerCapita.describe()"
   ]
  },
  {
   "cell_type": "code",
   "execution_count": 30,
   "id": "3307250c",
   "metadata": {},
   "outputs": [
    {
     "data": {
      "text/plain": [
       "count    122.000000\n",
       "mean      66.598361\n",
       "std       88.121503\n",
       "min        1.000000\n",
       "25%        5.000000\n",
       "50%       16.000000\n",
       "75%      112.750000\n",
       "max      370.000000\n",
       "Name: Wine_PerCapita, dtype: float64"
      ]
     },
     "execution_count": 30,
     "metadata": {},
     "output_type": "execute_result"
    }
   ],
   "source": [
    "inp1.Wine_PerCapita.describe()"
   ]
  },
  {
   "cell_type": "code",
   "execution_count": 31,
   "id": "0c1fe212",
   "metadata": {},
   "outputs": [
    {
     "data": {
      "text/html": [
       "<div>\n",
       "<style scoped>\n",
       "    .dataframe tbody tr th:only-of-type {\n",
       "        vertical-align: middle;\n",
       "    }\n",
       "\n",
       "    .dataframe tbody tr th {\n",
       "        vertical-align: top;\n",
       "    }\n",
       "\n",
       "    .dataframe thead th {\n",
       "        text-align: right;\n",
       "    }\n",
       "</style>\n",
       "<table border=\"1\" class=\"dataframe\">\n",
       "  <thead>\n",
       "    <tr style=\"text-align: right;\">\n",
       "      <th></th>\n",
       "      <th>Country</th>\n",
       "      <th>Beer_PerCapita</th>\n",
       "      <th>Spirit_PerCapita</th>\n",
       "      <th>Wine_PerCapita</th>\n",
       "    </tr>\n",
       "  </thead>\n",
       "  <tbody>\n",
       "    <tr>\n",
       "      <th>93</th>\n",
       "      <td>Egypt</td>\n",
       "      <td>6</td>\n",
       "      <td>4</td>\n",
       "      <td>1</td>\n",
       "    </tr>\n",
       "    <tr>\n",
       "      <th>106</th>\n",
       "      <td>Mali</td>\n",
       "      <td>5</td>\n",
       "      <td>1</td>\n",
       "      <td>1</td>\n",
       "    </tr>\n",
       "    <tr>\n",
       "      <th>109</th>\n",
       "      <td>Comoros</td>\n",
       "      <td>1</td>\n",
       "      <td>3</td>\n",
       "      <td>1</td>\n",
       "    </tr>\n",
       "    <tr>\n",
       "      <th>113</th>\n",
       "      <td>Niger</td>\n",
       "      <td>3</td>\n",
       "      <td>2</td>\n",
       "      <td>1</td>\n",
       "    </tr>\n",
       "  </tbody>\n",
       "</table>\n",
       "</div>"
      ],
      "text/plain": [
       "     Country  Beer_PerCapita  Spirit_PerCapita  Wine_PerCapita\n",
       "93     Egypt               6                 4               1\n",
       "106     Mali               5                 1               1\n",
       "109  Comoros               1                 3               1\n",
       "113    Niger               3                 2               1"
      ]
     },
     "execution_count": 31,
     "metadata": {},
     "output_type": "execute_result"
    }
   ],
   "source": [
    "inp1.loc[(inp1.Beer_PerCapita<7) & (inp1.Spirit_PerCapita<7) & (inp1.Wine_PerCapita<7)]\\\n",
    "[['Country','Beer_PerCapita','Spirit_PerCapita','Wine_PerCapita']]\n"
   ]
  },
  {
   "cell_type": "markdown",
   "id": "a5ec1534",
   "metadata": {},
   "source": [
    "#### These countries consume lease amount of these beverages"
   ]
  },
  {
   "cell_type": "code",
   "execution_count": 32,
   "id": "7acc4e60",
   "metadata": {},
   "outputs": [
    {
     "data": {
      "text/html": [
       "<div>\n",
       "<style scoped>\n",
       "    .dataframe tbody tr th:only-of-type {\n",
       "        vertical-align: middle;\n",
       "    }\n",
       "\n",
       "    .dataframe tbody tr th {\n",
       "        vertical-align: top;\n",
       "    }\n",
       "\n",
       "    .dataframe thead th {\n",
       "        text-align: right;\n",
       "    }\n",
       "</style>\n",
       "<table border=\"1\" class=\"dataframe\">\n",
       "  <thead>\n",
       "    <tr style=\"text-align: right;\">\n",
       "      <th></th>\n",
       "      <th>Country</th>\n",
       "      <th>Beer_PerCapita</th>\n",
       "      <th>Spirit_PerCapita</th>\n",
       "      <th>Wine_PerCapita</th>\n",
       "    </tr>\n",
       "  </thead>\n",
       "  <tbody>\n",
       "    <tr>\n",
       "      <th>25</th>\n",
       "      <td>Czech Republic</td>\n",
       "      <td>361</td>\n",
       "      <td>170</td>\n",
       "      <td>134</td>\n",
       "    </tr>\n",
       "    <tr>\n",
       "      <th>30</th>\n",
       "      <td>France</td>\n",
       "      <td>127</td>\n",
       "      <td>151</td>\n",
       "      <td>370</td>\n",
       "    </tr>\n",
       "    <tr>\n",
       "      <th>54</th>\n",
       "      <td>Belarus</td>\n",
       "      <td>142</td>\n",
       "      <td>373</td>\n",
       "      <td>42</td>\n",
       "    </tr>\n",
       "    <tr>\n",
       "      <th>90</th>\n",
       "      <td>Namibia</td>\n",
       "      <td>376</td>\n",
       "      <td>3</td>\n",
       "      <td>1</td>\n",
       "    </tr>\n",
       "  </tbody>\n",
       "</table>\n",
       "</div>"
      ],
      "text/plain": [
       "           Country  Beer_PerCapita  Spirit_PerCapita  Wine_PerCapita\n",
       "25  Czech Republic             361               170             134\n",
       "30          France             127               151             370\n",
       "54         Belarus             142               373              42\n",
       "90         Namibia             376                 3               1"
      ]
     },
     "execution_count": 32,
     "metadata": {},
     "output_type": "execute_result"
    }
   ],
   "source": [
    "inp1.loc[(inp1.Beer_PerCapita>350) | (inp1.Spirit_PerCapita>350) | (inp1.Wine_PerCapita>350)]\\\n",
    "[['Country','Beer_PerCapita','Spirit_PerCapita','Wine_PerCapita']]"
   ]
  },
  {
   "cell_type": "markdown",
   "id": "f7576a77",
   "metadata": {},
   "source": [
    "#### These countries consumes heighest amout of these beverages"
   ]
  },
  {
   "cell_type": "markdown",
   "id": "4feb6d79",
   "metadata": {},
   "source": [
    "## GDP_PerCapita"
   ]
  },
  {
   "cell_type": "code",
   "execution_count": 33,
   "id": "31fbb581",
   "metadata": {},
   "outputs": [
    {
     "data": {
      "text/plain": [
       "count       122.000000\n",
       "mean      24430.952753\n",
       "std       23622.095085\n",
       "min         932.172007\n",
       "25%        7315.685023\n",
       "50%       17709.640335\n",
       "75%       37530.032610\n",
       "max      126898.425900\n",
       "Name: GDP_PerCapita, dtype: float64"
      ]
     },
     "execution_count": 33,
     "metadata": {},
     "output_type": "execute_result"
    }
   ],
   "source": [
    "inp1.GDP_PerCapita.describe()"
   ]
  },
  {
   "cell_type": "code",
   "execution_count": 34,
   "id": "380f8e12",
   "metadata": {},
   "outputs": [
    {
     "data": {
      "text/plain": [
       "<AxesSubplot:xlabel='GDP_PerCapita'>"
      ]
     },
     "execution_count": 34,
     "metadata": {},
     "output_type": "execute_result"
    },
    {
     "data": {
      "image/png": "[encoded data removed]",
      "text/plain": [
       "<Figure size 432x288 with 1 Axes>"
      ]
     },
     "metadata": {
      "needs_background": "light"
     },
     "output_type": "display_data"
    }
   ],
   "source": [
    "sns.boxplot(inp1.GDP_PerCapita)"
   ]
  },
  {
   "cell_type": "code",
   "execution_count": 35,
   "id": "5ccd9860",
   "metadata": {},
   "outputs": [
    {
     "data": {
      "text/html": [
       "<div>\n",
       "<style scoped>\n",
       "    .dataframe tbody tr th:only-of-type {\n",
       "        vertical-align: middle;\n",
       "    }\n",
       "\n",
       "    .dataframe tbody tr th {\n",
       "        vertical-align: top;\n",
       "    }\n",
       "\n",
       "    .dataframe thead th {\n",
       "        text-align: right;\n",
       "    }\n",
       "</style>\n",
       "<table border=\"1\" class=\"dataframe\">\n",
       "  <thead>\n",
       "    <tr style=\"text-align: right;\">\n",
       "      <th></th>\n",
       "      <th>Country</th>\n",
       "      <th>GDP_PerCapita</th>\n",
       "    </tr>\n",
       "  </thead>\n",
       "  <tbody>\n",
       "    <tr>\n",
       "      <th>32</th>\n",
       "      <td>Qatar</td>\n",
       "      <td>126898.42590</td>\n",
       "    </tr>\n",
       "    <tr>\n",
       "      <th>18</th>\n",
       "      <td>Luxembourg</td>\n",
       "      <td>113337.42050</td>\n",
       "    </tr>\n",
       "    <tr>\n",
       "      <th>20</th>\n",
       "      <td>Singapore</td>\n",
       "      <td>101531.63020</td>\n",
       "    </tr>\n",
       "    <tr>\n",
       "      <th>17</th>\n",
       "      <td>Ireland</td>\n",
       "      <td>83203.39468</td>\n",
       "    </tr>\n",
       "  </tbody>\n",
       "</table>\n",
       "</div>"
      ],
      "text/plain": [
       "       Country  GDP_PerCapita\n",
       "32       Qatar   126898.42590\n",
       "18  Luxembourg   113337.42050\n",
       "20   Singapore   101531.63020\n",
       "17     Ireland    83203.39468"
      ]
     },
     "execution_count": 35,
     "metadata": {},
     "output_type": "execute_result"
    }
   ],
   "source": [
    "inp1.loc[inp1.GDP_PerCapita>80000][['Country','GDP_PerCapita']].sort_values(by=['GDP_PerCapita'],ascending=False)"
   ]
  },
  {
   "cell_type": "markdown",
   "id": "e08a114c",
   "metadata": {},
   "source": [
    "#### These Countries have heighest GDP per Capita"
   ]
  },
  {
   "cell_type": "code",
   "execution_count": 36,
   "id": "f0484c9e",
   "metadata": {},
   "outputs": [
    {
     "data": {
      "text/html": [
       "<div>\n",
       "<style scoped>\n",
       "    .dataframe tbody tr th:only-of-type {\n",
       "        vertical-align: middle;\n",
       "    }\n",
       "\n",
       "    .dataframe tbody tr th {\n",
       "        vertical-align: top;\n",
       "    }\n",
       "\n",
       "    .dataframe thead th {\n",
       "        text-align: right;\n",
       "    }\n",
       "</style>\n",
       "<table border=\"1\" class=\"dataframe\">\n",
       "  <thead>\n",
       "    <tr style=\"text-align: right;\">\n",
       "      <th></th>\n",
       "      <th>Country</th>\n",
       "      <th>GDP_PerCapita</th>\n",
       "    </tr>\n",
       "  </thead>\n",
       "  <tbody>\n",
       "    <tr>\n",
       "      <th>104</th>\n",
       "      <td>Malawi</td>\n",
       "      <td>1310.995555</td>\n",
       "    </tr>\n",
       "    <tr>\n",
       "      <th>118</th>\n",
       "      <td>Liberia</td>\n",
       "      <td>1308.629536</td>\n",
       "    </tr>\n",
       "    <tr>\n",
       "      <th>121</th>\n",
       "      <td>Syria</td>\n",
       "      <td>1265.610000</td>\n",
       "    </tr>\n",
       "    <tr>\n",
       "      <th>113</th>\n",
       "      <td>Niger</td>\n",
       "      <td>1063.421841</td>\n",
       "    </tr>\n",
       "    <tr>\n",
       "      <th>98</th>\n",
       "      <td>Dem. Rep. Congo</td>\n",
       "      <td>932.172007</td>\n",
       "    </tr>\n",
       "  </tbody>\n",
       "</table>\n",
       "</div>"
      ],
      "text/plain": [
       "             Country  GDP_PerCapita\n",
       "104           Malawi    1310.995555\n",
       "118          Liberia    1308.629536\n",
       "121            Syria    1265.610000\n",
       "113            Niger    1063.421841\n",
       "98   Dem. Rep. Congo     932.172007"
      ]
     },
     "execution_count": 36,
     "metadata": {},
     "output_type": "execute_result"
    }
   ],
   "source": [
    "inp1.loc[inp1.GDP_PerCapita<1500][['Country','GDP_PerCapita']].sort_values(by=['GDP_PerCapita'],ascending=False)"
   ]
  },
  {
   "cell_type": "markdown",
   "id": "eaaef0fe",
   "metadata": {},
   "source": [
    "#### These Countries have lowest GDP per Capita"
   ]
  },
  {
   "cell_type": "markdown",
   "id": "35f812fb",
   "metadata": {},
   "source": [
    "## Alcohol consumption"
   ]
  },
  {
   "cell_type": "markdown",
   "id": "8b857c1a",
   "metadata": {},
   "source": [
    "Lets add a column \"Alcohol\" that will simplify our question\n",
    "-> Alcohol = (Beer + Spirit + Wine)"
   ]
  },
  {
   "cell_type": "code",
   "execution_count": 37,
   "id": "863f362a",
   "metadata": {},
   "outputs": [
    {
     "data": {
      "text/html": [
       "<div>\n",
       "<style scoped>\n",
       "    .dataframe tbody tr th:only-of-type {\n",
       "        vertical-align: middle;\n",
       "    }\n",
       "\n",
       "    .dataframe tbody tr th {\n",
       "        vertical-align: top;\n",
       "    }\n",
       "\n",
       "    .dataframe thead th {\n",
       "        text-align: right;\n",
       "    }\n",
       "</style>\n",
       "<table border=\"1\" class=\"dataframe\">\n",
       "  <thead>\n",
       "    <tr style=\"text-align: right;\">\n",
       "      <th></th>\n",
       "      <th>Country</th>\n",
       "      <th>Region</th>\n",
       "      <th>Hemisphere</th>\n",
       "      <th>HappinessScore</th>\n",
       "      <th>HDI</th>\n",
       "      <th>Beer_PerCapita</th>\n",
       "      <th>Spirit_PerCapita</th>\n",
       "      <th>Wine_PerCapita</th>\n",
       "      <th>GDP_PerCapita</th>\n",
       "      <th>Alcohol</th>\n",
       "    </tr>\n",
       "  </thead>\n",
       "  <tbody>\n",
       "    <tr>\n",
       "      <th>0</th>\n",
       "      <td>Denmark</td>\n",
       "      <td>Western Europe</td>\n",
       "      <td>north</td>\n",
       "      <td>7.526</td>\n",
       "      <td>928</td>\n",
       "      <td>224</td>\n",
       "      <td>81</td>\n",
       "      <td>278</td>\n",
       "      <td>55671.16527</td>\n",
       "      <td>583</td>\n",
       "    </tr>\n",
       "    <tr>\n",
       "      <th>1</th>\n",
       "      <td>Switzerland</td>\n",
       "      <td>Western Europe</td>\n",
       "      <td>north</td>\n",
       "      <td>7.509</td>\n",
       "      <td>943</td>\n",
       "      <td>185</td>\n",
       "      <td>100</td>\n",
       "      <td>280</td>\n",
       "      <td>68060.94105</td>\n",
       "      <td>565</td>\n",
       "    </tr>\n",
       "    <tr>\n",
       "      <th>2</th>\n",
       "      <td>Iceland</td>\n",
       "      <td>Western Europe</td>\n",
       "      <td>north</td>\n",
       "      <td>7.501</td>\n",
       "      <td>933</td>\n",
       "      <td>233</td>\n",
       "      <td>61</td>\n",
       "      <td>78</td>\n",
       "      <td>57303.06078</td>\n",
       "      <td>372</td>\n",
       "    </tr>\n",
       "    <tr>\n",
       "      <th>3</th>\n",
       "      <td>Norway</td>\n",
       "      <td>Western Europe</td>\n",
       "      <td>north</td>\n",
       "      <td>7.498</td>\n",
       "      <td>951</td>\n",
       "      <td>169</td>\n",
       "      <td>71</td>\n",
       "      <td>129</td>\n",
       "      <td>65510.58527</td>\n",
       "      <td>369</td>\n",
       "    </tr>\n",
       "    <tr>\n",
       "      <th>4</th>\n",
       "      <td>Finland</td>\n",
       "      <td>Western Europe</td>\n",
       "      <td>north</td>\n",
       "      <td>7.413</td>\n",
       "      <td>918</td>\n",
       "      <td>263</td>\n",
       "      <td>133</td>\n",
       "      <td>97</td>\n",
       "      <td>48416.93603</td>\n",
       "      <td>493</td>\n",
       "    </tr>\n",
       "  </tbody>\n",
       "</table>\n",
       "</div>"
      ],
      "text/plain": [
       "       Country          Region Hemisphere  HappinessScore  HDI  \\\n",
       "0      Denmark  Western Europe      north           7.526  928   \n",
       "1  Switzerland  Western Europe      north           7.509  943   \n",
       "2      Iceland  Western Europe      north           7.501  933   \n",
       "3       Norway  Western Europe      north           7.498  951   \n",
       "4      Finland  Western Europe      north           7.413  918   \n",
       "\n",
       "   Beer_PerCapita  Spirit_PerCapita  Wine_PerCapita  GDP_PerCapita  Alcohol  \n",
       "0             224                81             278    55671.16527      583  \n",
       "1             185               100             280    68060.94105      565  \n",
       "2             233                61              78    57303.06078      372  \n",
       "3             169                71             129    65510.58527      369  \n",
       "4             263               133              97    48416.93603      493  "
      ]
     },
     "execution_count": 37,
     "metadata": {},
     "output_type": "execute_result"
    }
   ],
   "source": [
    "inp1['Alcohol']= (inp1.Beer_PerCapita + inp1.Spirit_PerCapita + inp1.Wine_PerCapita)\n",
    "inp1.head()"
   ]
  },
  {
   "cell_type": "code",
   "execution_count": 38,
   "id": "21f6a9f5",
   "metadata": {},
   "outputs": [
    {
     "data": {
      "text/html": [
       "<div>\n",
       "<style scoped>\n",
       "    .dataframe tbody tr th:only-of-type {\n",
       "        vertical-align: middle;\n",
       "    }\n",
       "\n",
       "    .dataframe tbody tr th {\n",
       "        vertical-align: top;\n",
       "    }\n",
       "\n",
       "    .dataframe thead th {\n",
       "        text-align: right;\n",
       "    }\n",
       "</style>\n",
       "<table border=\"1\" class=\"dataframe\">\n",
       "  <thead>\n",
       "    <tr style=\"text-align: right;\">\n",
       "      <th></th>\n",
       "      <th>Country</th>\n",
       "      <th>Region</th>\n",
       "      <th>Hemisphere</th>\n",
       "      <th>HappinessScore</th>\n",
       "      <th>HDI</th>\n",
       "      <th>Beer_PerCapita</th>\n",
       "      <th>Spirit_PerCapita</th>\n",
       "      <th>Wine_PerCapita</th>\n",
       "      <th>GDP_PerCapita</th>\n",
       "      <th>Alcohol</th>\n",
       "    </tr>\n",
       "  </thead>\n",
       "  <tbody>\n",
       "    <tr>\n",
       "      <th>25</th>\n",
       "      <td>Czech Republic</td>\n",
       "      <td>Central and Eastern Europe</td>\n",
       "      <td>north</td>\n",
       "      <td>6.596</td>\n",
       "      <td>885</td>\n",
       "      <td>361</td>\n",
       "      <td>170</td>\n",
       "      <td>134</td>\n",
       "      <td>39743.59709</td>\n",
       "      <td>665</td>\n",
       "    </tr>\n",
       "    <tr>\n",
       "      <th>30</th>\n",
       "      <td>France</td>\n",
       "      <td>Western Europe</td>\n",
       "      <td>north</td>\n",
       "      <td>6.478</td>\n",
       "      <td>899</td>\n",
       "      <td>127</td>\n",
       "      <td>151</td>\n",
       "      <td>370</td>\n",
       "      <td>45342.39574</td>\n",
       "      <td>648</td>\n",
       "    </tr>\n",
       "    <tr>\n",
       "      <th>49</th>\n",
       "      <td>Russian Federation</td>\n",
       "      <td>Central and Eastern Europe</td>\n",
       "      <td>north</td>\n",
       "      <td>5.856</td>\n",
       "      <td>815</td>\n",
       "      <td>247</td>\n",
       "      <td>326</td>\n",
       "      <td>73</td>\n",
       "      <td>27588.12544</td>\n",
       "      <td>646</td>\n",
       "    </tr>\n",
       "    <tr>\n",
       "      <th>53</th>\n",
       "      <td>Lithuania</td>\n",
       "      <td>Central and Eastern Europe</td>\n",
       "      <td>north</td>\n",
       "      <td>5.813</td>\n",
       "      <td>855</td>\n",
       "      <td>343</td>\n",
       "      <td>244</td>\n",
       "      <td>56</td>\n",
       "      <td>35461.35910</td>\n",
       "      <td>643</td>\n",
       "    </tr>\n",
       "    <tr>\n",
       "      <th>18</th>\n",
       "      <td>Luxembourg</td>\n",
       "      <td>Western Europe</td>\n",
       "      <td>north</td>\n",
       "      <td>6.871</td>\n",
       "      <td>904</td>\n",
       "      <td>236</td>\n",
       "      <td>133</td>\n",
       "      <td>271</td>\n",
       "      <td>113337.42050</td>\n",
       "      <td>640</td>\n",
       "    </tr>\n",
       "  </tbody>\n",
       "</table>\n",
       "</div>"
      ],
      "text/plain": [
       "               Country                      Region Hemisphere  HappinessScore  \\\n",
       "25      Czech Republic  Central and Eastern Europe      north           6.596   \n",
       "30              France              Western Europe      north           6.478   \n",
       "49  Russian Federation  Central and Eastern Europe      north           5.856   \n",
       "53           Lithuania  Central and Eastern Europe      north           5.813   \n",
       "18          Luxembourg              Western Europe      north           6.871   \n",
       "\n",
       "    HDI  Beer_PerCapita  Spirit_PerCapita  Wine_PerCapita  GDP_PerCapita  \\\n",
       "25  885             361               170             134    39743.59709   \n",
       "30  899             127               151             370    45342.39574   \n",
       "49  815             247               326              73    27588.12544   \n",
       "53  855             343               244              56    35461.35910   \n",
       "18  904             236               133             271   113337.42050   \n",
       "\n",
       "    Alcohol  \n",
       "25      665  \n",
       "30      648  \n",
       "49      646  \n",
       "53      643  \n",
       "18      640  "
      ]
     },
     "execution_count": 38,
     "metadata": {},
     "output_type": "execute_result"
    }
   ],
   "source": [
    "inp1.sort_values(['Alcohol'],ascending=False).head()"
   ]
  },
  {
   "cell_type": "markdown",
   "id": "f7e604a4",
   "metadata": {},
   "source": [
    "#### These countries drink the most"
   ]
  },
  {
   "cell_type": "code",
   "execution_count": 39,
   "id": "9763a5b0",
   "metadata": {},
   "outputs": [
    {
     "data": {
      "text/html": [
       "<div>\n",
       "<style scoped>\n",
       "    .dataframe tbody tr th:only-of-type {\n",
       "        vertical-align: middle;\n",
       "    }\n",
       "\n",
       "    .dataframe tbody tr th {\n",
       "        vertical-align: top;\n",
       "    }\n",
       "\n",
       "    .dataframe thead th {\n",
       "        text-align: right;\n",
       "    }\n",
       "</style>\n",
       "<table border=\"1\" class=\"dataframe\">\n",
       "  <thead>\n",
       "    <tr style=\"text-align: right;\">\n",
       "      <th></th>\n",
       "      <th>Country</th>\n",
       "      <th>Region</th>\n",
       "      <th>Hemisphere</th>\n",
       "      <th>HappinessScore</th>\n",
       "      <th>HDI</th>\n",
       "      <th>Beer_PerCapita</th>\n",
       "      <th>Spirit_PerCapita</th>\n",
       "      <th>Wine_PerCapita</th>\n",
       "      <th>GDP_PerCapita</th>\n",
       "      <th>Alcohol</th>\n",
       "    </tr>\n",
       "  </thead>\n",
       "  <tbody>\n",
       "    <tr>\n",
       "      <th>109</th>\n",
       "      <td>Comoros</td>\n",
       "      <td>Sub-Saharan Africa</td>\n",
       "      <td>south</td>\n",
       "      <td>3.956</td>\n",
       "      <td>502</td>\n",
       "      <td>1</td>\n",
       "      <td>3</td>\n",
       "      <td>1</td>\n",
       "      <td>2913.387306</td>\n",
       "      <td>5</td>\n",
       "    </tr>\n",
       "    <tr>\n",
       "      <th>113</th>\n",
       "      <td>Niger</td>\n",
       "      <td>Sub-Saharan Africa</td>\n",
       "      <td>north</td>\n",
       "      <td>3.856</td>\n",
       "      <td>351</td>\n",
       "      <td>3</td>\n",
       "      <td>2</td>\n",
       "      <td>1</td>\n",
       "      <td>1063.421841</td>\n",
       "      <td>6</td>\n",
       "    </tr>\n",
       "    <tr>\n",
       "      <th>106</th>\n",
       "      <td>Mali</td>\n",
       "      <td>Sub-Saharan Africa</td>\n",
       "      <td>north</td>\n",
       "      <td>4.073</td>\n",
       "      <td>421</td>\n",
       "      <td>5</td>\n",
       "      <td>1</td>\n",
       "      <td>1</td>\n",
       "      <td>2316.655200</td>\n",
       "      <td>7</td>\n",
       "    </tr>\n",
       "    <tr>\n",
       "      <th>93</th>\n",
       "      <td>Egypt</td>\n",
       "      <td>Middle East and Northern Africa</td>\n",
       "      <td>north</td>\n",
       "      <td>4.362</td>\n",
       "      <td>694</td>\n",
       "      <td>6</td>\n",
       "      <td>4</td>\n",
       "      <td>1</td>\n",
       "      <td>12412.309400</td>\n",
       "      <td>11</td>\n",
       "    </tr>\n",
       "    <tr>\n",
       "      <th>114</th>\n",
       "      <td>Chad</td>\n",
       "      <td>Sub-Saharan Africa</td>\n",
       "      <td>north</td>\n",
       "      <td>3.763</td>\n",
       "      <td>405</td>\n",
       "      <td>15</td>\n",
       "      <td>1</td>\n",
       "      <td>1</td>\n",
       "      <td>1968.258262</td>\n",
       "      <td>17</td>\n",
       "    </tr>\n",
       "  </tbody>\n",
       "</table>\n",
       "</div>"
      ],
      "text/plain": [
       "     Country                           Region Hemisphere  HappinessScore  HDI  \\\n",
       "109  Comoros               Sub-Saharan Africa      south           3.956  502   \n",
       "113    Niger               Sub-Saharan Africa      north           3.856  351   \n",
       "106     Mali               Sub-Saharan Africa      north           4.073  421   \n",
       "93     Egypt  Middle East and Northern Africa      north           4.362  694   \n",
       "114     Chad               Sub-Saharan Africa      north           3.763  405   \n",
       "\n",
       "     Beer_PerCapita  Spirit_PerCapita  Wine_PerCapita  GDP_PerCapita  Alcohol  \n",
       "109               1                 3               1    2913.387306        5  \n",
       "113               3                 2               1    1063.421841        6  \n",
       "106               5                 1               1    2316.655200        7  \n",
       "93                6                 4               1   12412.309400       11  \n",
       "114              15                 1               1    1968.258262       17  "
      ]
     },
     "execution_count": 39,
     "metadata": {},
     "output_type": "execute_result"
    }
   ],
   "source": [
    "inp1.sort_values(['Alcohol']).head()"
   ]
  },
  {
   "cell_type": "markdown",
   "id": "c0c487f3",
   "metadata": {},
   "source": [
    "## Happiness Score into categorical type"
   ]
  },
  {
   "cell_type": "code",
   "execution_count": 40,
   "id": "15091040",
   "metadata": {},
   "outputs": [
    {
     "data": {
      "text/plain": [
       "count    122.000000\n",
       "mean       5.524828\n",
       "std        1.148736\n",
       "min        3.069000\n",
       "25%        4.528250\n",
       "50%        5.542000\n",
       "75%        6.477000\n",
       "max        7.526000\n",
       "Name: HappinessScore, dtype: float64"
      ]
     },
     "execution_count": 40,
     "metadata": {},
     "output_type": "execute_result"
    }
   ],
   "source": [
    "inp1.HappinessScore.describe()"
   ]
  },
  {
   "cell_type": "code",
   "execution_count": 41,
   "id": "4924ecba",
   "metadata": {},
   "outputs": [
    {
     "data": {
      "text/plain": [
       "<AxesSubplot:ylabel='HappinessCat'>"
      ]
     },
     "execution_count": 41,
     "metadata": {},
     "output_type": "execute_result"
    },
    {
     "data": {
      "image/png": "[encoded data removed]",
      "text/plain": [
       "<Figure size 432x288 with 1 Axes>"
      ]
     },
     "metadata": {},
     "output_type": "display_data"
    }
   ],
   "source": [
    "def fun(x):\n",
    "    if x< 4.528250:\n",
    "        return \"Bad\"\n",
    "    elif x> 4.528250 and x< 5.542000:\n",
    "        return \"Average\"\n",
    "    elif x>5.542000 and x< 6.477000:\n",
    "        return \"Above Average\"\n",
    "    else:\n",
    "        return \"Good\"\n",
    "inp1['HappinessCat']=inp1.HappinessScore.apply(lambda x:fun(x))\n",
    "inp1.HappinessCat.value_counts().plot.pie()\n"
   ]
  },
  {
   "cell_type": "markdown",
   "id": "536d2c28",
   "metadata": {},
   "source": [
    "# Bivariate Analysis"
   ]
  },
  {
   "cell_type": "markdown",
   "id": "9d18fa61",
   "metadata": {},
   "source": [
    "#### Happiness VS HDI"
   ]
  },
  {
   "cell_type": "code",
   "execution_count": 42,
   "id": "ec565eec",
   "metadata": {},
   "outputs": [
    {
     "data": {
      "text/plain": [
       "<AxesSubplot:xlabel='HDI', ylabel='HappinessCat'>"
      ]
     },
     "execution_count": 42,
     "metadata": {},
     "output_type": "execute_result"
    },
    {
     "data": {
      "image/png": "[encoded data removed]",
      "text/plain": [
       "<Figure size 432x288 with 1 Axes>"
      ]
     },
     "metadata": {
      "needs_background": "light"
     },
     "output_type": "display_data"
    }
   ],
   "source": [
    "sns.lineplot(inp1.HDI,inp1.HappinessCat)"
   ]
  },
  {
   "cell_type": "code",
   "execution_count": 43,
   "id": "2386472d",
   "metadata": {},
   "outputs": [
    {
     "data": {
      "text/plain": [
       "<AxesSubplot:xlabel='HDI', ylabel='HappinessCat'>"
      ]
     },
     "execution_count": 43,
     "metadata": {},
     "output_type": "execute_result"
    },
    {
     "data": {
      "image/png": "[encoded data removed]",
      "text/plain": [
       "<Figure size 432x288 with 1 Axes>"
      ]
     },
     "metadata": {
      "needs_background": "light"
     },
     "output_type": "display_data"
    }
   ],
   "source": [
    "sns.barplot(inp1.HDI,inp1.HappinessCat)"
   ]
  },
  {
   "cell_type": "markdown",
   "id": "e55ee7d8",
   "metadata": {},
   "source": [
    "#### This graph somewhat tells developed countries are mostly happy"
   ]
  },
  {
   "cell_type": "markdown",
   "id": "9711b775",
   "metadata": {},
   "source": [
    "#### HDI VS Alcohol"
   ]
  },
  {
   "cell_type": "code",
   "execution_count": 44,
   "id": "2ce929d9",
   "metadata": {},
   "outputs": [
    {
     "data": {
      "text/plain": [
       "<AxesSubplot:xlabel='HDI', ylabel='Alcohol'>"
      ]
     },
     "execution_count": 44,
     "metadata": {},
     "output_type": "execute_result"
    },
    {
     "data": {
      "image/png": "[encoded data removed]",
      "text/plain": [
       "<Figure size 432x288 with 1 Axes>"
      ]
     },
     "metadata": {
      "needs_background": "light"
     },
     "output_type": "display_data"
    }
   ],
   "source": [
    "sns.lineplot(inp1.HDI,inp1.Alcohol)"
   ]
  },
  {
   "cell_type": "code",
   "execution_count": 45,
   "id": "7d5422cc",
   "metadata": {},
   "outputs": [
    {
     "data": {
      "text/plain": [
       "<AxesSubplot:xlabel='HDI', ylabel='Alcohol'>"
      ]
     },
     "execution_count": 45,
     "metadata": {},
     "output_type": "execute_result"
    },
    {
     "data": {
      "image/png": "[encoded data removed]",
      "text/plain": [
       "<Figure size 432x288 with 1 Axes>"
      ]
     },
     "metadata": {
      "needs_background": "light"
     },
     "output_type": "display_data"
    }
   ],
   "source": [
    "sns.scatterplot(inp1.HDI,inp1.Alcohol)"
   ]
  },
  {
   "cell_type": "markdown",
   "id": "b303ee70",
   "metadata": {},
   "source": [
    "#### Not much is clear here, but we can see, developed countries consumes more alcohol than underdeveloped ones"
   ]
  },
  {
   "cell_type": "markdown",
   "id": "a53102a1",
   "metadata": {},
   "source": [
    "#### Happiness vs Alcohol"
   ]
  },
  {
   "cell_type": "code",
   "execution_count": 46,
   "id": "0ea07495",
   "metadata": {},
   "outputs": [
    {
     "data": {
      "text/plain": [
       "<AxesSubplot:xlabel='HappinessCat', ylabel='Alcohol'>"
      ]
     },
     "execution_count": 46,
     "metadata": {},
     "output_type": "execute_result"
    },
    {
     "data": {
      "image/png": "[encoded data removed]",
      "text/plain": [
       "<Figure size 432x288 with 1 Axes>"
      ]
     },
     "metadata": {
      "needs_background": "light"
     },
     "output_type": "display_data"
    }
   ],
   "source": [
    "sns.barplot(inp1.HappinessCat,inp1.Alcohol)"
   ]
  },
  {
   "cell_type": "code",
   "execution_count": 47,
   "id": "279227da",
   "metadata": {},
   "outputs": [
    {
     "data": {
      "text/plain": [
       "<AxesSubplot:xlabel='HappinessCat', ylabel='Alcohol'>"
      ]
     },
     "execution_count": 47,
     "metadata": {},
     "output_type": "execute_result"
    },
    {
     "data": {
      "image/png": "[encoded data removed]",
      "text/plain": [
       "<Figure size 432x288 with 1 Axes>"
      ]
     },
     "metadata": {
      "needs_background": "light"
     },
     "output_type": "display_data"
    }
   ],
   "source": [
    "sns.lineplot(inp1.HappinessCat,inp1.Alcohol)"
   ]
  },
  {
   "cell_type": "markdown",
   "id": "c1089cce",
   "metadata": {},
   "source": [
    "#### Here we are getting a bit of hint that happiest countries usually consumes more alcohol "
   ]
  },
  {
   "cell_type": "markdown",
   "id": "aae4c996",
   "metadata": {},
   "source": [
    "### GDP vs Happiness"
   ]
  },
  {
   "cell_type": "code",
   "execution_count": 48,
   "id": "bef9b525",
   "metadata": {},
   "outputs": [
    {
     "data": {
      "text/plain": [
       "<AxesSubplot:xlabel='GDP_PerCapita', ylabel='HappinessCat'>"
      ]
     },
     "execution_count": 48,
     "metadata": {},
     "output_type": "execute_result"
    },
    {
     "data": {
      "image/png": "[encoded data removed]",
      "text/plain": [
       "<Figure size 432x288 with 1 Axes>"
      ]
     },
     "metadata": {
      "needs_background": "light"
     },
     "output_type": "display_data"
    }
   ],
   "source": [
    "sns.barplot(inp1.GDP_PerCapita,inp1.HappinessCat)"
   ]
  },
  {
   "cell_type": "code",
   "execution_count": 49,
   "id": "89dff2d0",
   "metadata": {},
   "outputs": [
    {
     "data": {
      "text/plain": [
       "<AxesSubplot:xlabel='GDP_PerCapita', ylabel='HappinessCat'>"
      ]
     },
     "execution_count": 49,
     "metadata": {},
     "output_type": "execute_result"
    },
    {
     "data": {
      "image/png": "[encoded data removed]",
      "text/plain": [
       "<Figure size 432x288 with 1 Axes>"
      ]
     },
     "metadata": {
      "needs_background": "light"
     },
     "output_type": "display_data"
    }
   ],
   "source": [
    "sns.lineplot(inp1.GDP_PerCapita,inp1.HappinessCat)"
   ]
  },
  {
   "cell_type": "markdown",
   "id": "12660316",
   "metadata": {},
   "source": [
    "#### Better GDP per capita means happier people, happier nation."
   ]
  },
  {
   "cell_type": "markdown",
   "id": "472581ff",
   "metadata": {},
   "source": [
    "#### Happiness, HDI and Alcohol"
   ]
  },
  {
   "cell_type": "code",
   "execution_count": 50,
   "id": "15ed4b54",
   "metadata": {},
   "outputs": [
    {
     "data": {
      "image/png": "[encoded data removed]",
      "text/plain": [
       "<Figure size 540x540 with 12 Axes>"
      ]
     },
     "metadata": {
      "needs_background": "light"
     },
     "output_type": "display_data"
    }
   ],
   "source": [
    "sns.pairplot(vars=['HappinessCat','HDI','Alcohol'] , data=inp1)\n",
    "plt.tight_layout()"
   ]
  },
  {
   "cell_type": "markdown",
   "id": "a8d4ad94",
   "metadata": {},
   "source": [
    "# Statistical Intuition"
   ]
  },
  {
   "cell_type": "markdown",
   "id": "c862f16a",
   "metadata": {},
   "source": [
    "#### Mean of whole data"
   ]
  },
  {
   "cell_type": "code",
   "execution_count": 51,
   "id": "1d4ce9d7",
   "metadata": {},
   "outputs": [
    {
     "data": {
      "text/plain": [
       "HappinessScore          5.524828\n",
       "HDI                   740.877049\n",
       "Beer_PerCapita        137.565574\n",
       "Spirit_PerCapita       96.598361\n",
       "Wine_PerCapita         66.598361\n",
       "GDP_PerCapita       24430.952753\n",
       "Alcohol               300.762295\n",
       "dtype: float64"
      ]
     },
     "execution_count": 51,
     "metadata": {},
     "output_type": "execute_result"
    }
   ],
   "source": [
    "inp1.mean()"
   ]
  },
  {
   "cell_type": "markdown",
   "id": "79352468",
   "metadata": {},
   "source": [
    "#### Median of whole data"
   ]
  },
  {
   "cell_type": "code",
   "execution_count": 52,
   "id": "fba7dd73",
   "metadata": {},
   "outputs": [
    {
     "data": {
      "text/plain": [
       "HappinessScore          5.542000\n",
       "HDI                   757.500000\n",
       "Beer_PerCapita        125.500000\n",
       "Spirit_PerCapita       82.500000\n",
       "Wine_PerCapita         16.000000\n",
       "GDP_PerCapita       17709.640335\n",
       "Alcohol               298.000000\n",
       "dtype: float64"
      ]
     },
     "execution_count": 52,
     "metadata": {},
     "output_type": "execute_result"
    }
   ],
   "source": [
    "inp1.median()"
   ]
  },
  {
   "cell_type": "markdown",
   "id": "c3934344",
   "metadata": {},
   "source": [
    "#### Standard Deviation of whole data"
   ]
  },
  {
   "cell_type": "code",
   "execution_count": 53,
   "id": "d7c12ed0",
   "metadata": {},
   "outputs": [
    {
     "data": {
      "text/plain": [
       "HappinessScore          1.148736\n",
       "HDI                   149.846124\n",
       "Beer_PerCapita        104.817353\n",
       "Spirit_PerCapita       81.435028\n",
       "Wine_PerCapita         88.121503\n",
       "GDP_PerCapita       23622.095085\n",
       "Alcohol               205.128505\n",
       "dtype: float64"
      ]
     },
     "execution_count": 53,
     "metadata": {},
     "output_type": "execute_result"
    }
   ],
   "source": [
    "inp1.std()"
   ]
  },
  {
   "cell_type": "markdown",
   "id": "b2328150",
   "metadata": {},
   "source": [
    "#### Variance of whole data"
   ]
  },
  {
   "cell_type": "code",
   "execution_count": 54,
   "id": "03084f4e",
   "metadata": {},
   "outputs": [
    {
     "data": {
      "text/plain": [
       "HappinessScore      1.319595e+00\n",
       "HDI                 2.245386e+04\n",
       "Beer_PerCapita      1.098668e+04\n",
       "Spirit_PerCapita    6.631664e+03\n",
       "Wine_PerCapita      7.765399e+03\n",
       "GDP_PerCapita       5.580034e+08\n",
       "Alcohol             4.207770e+04\n",
       "dtype: float64"
      ]
     },
     "execution_count": 54,
     "metadata": {},
     "output_type": "execute_result"
    }
   ],
   "source": [
    "inp1.var()"
   ]
  },
  {
   "cell_type": "markdown",
   "id": "081d29e6",
   "metadata": {},
   "source": [
    "#### Percentile Division of whole data"
   ]
  },
  {
   "cell_type": "code",
   "execution_count": 55,
   "id": "5d509c35",
   "metadata": {},
   "outputs": [
    {
     "data": {
      "text/html": [
       "<div>\n",
       "<style scoped>\n",
       "    .dataframe tbody tr th:only-of-type {\n",
       "        vertical-align: middle;\n",
       "    }\n",
       "\n",
       "    .dataframe tbody tr th {\n",
       "        vertical-align: top;\n",
       "    }\n",
       "\n",
       "    .dataframe thead th {\n",
       "        text-align: right;\n",
       "    }\n",
       "</style>\n",
       "<table border=\"1\" class=\"dataframe\">\n",
       "  <thead>\n",
       "    <tr style=\"text-align: right;\">\n",
       "      <th></th>\n",
       "      <th>HappinessScore</th>\n",
       "      <th>HDI</th>\n",
       "      <th>Beer_PerCapita</th>\n",
       "      <th>Spirit_PerCapita</th>\n",
       "      <th>Wine_PerCapita</th>\n",
       "      <th>GDP_PerCapita</th>\n",
       "      <th>Alcohol</th>\n",
       "    </tr>\n",
       "  </thead>\n",
       "  <tbody>\n",
       "    <tr>\n",
       "      <th>0.00</th>\n",
       "      <td>3.06900</td>\n",
       "      <td>351.00</td>\n",
       "      <td>1.00</td>\n",
       "      <td>1.0</td>\n",
       "      <td>1.00</td>\n",
       "      <td>932.172007</td>\n",
       "      <td>5.00</td>\n",
       "    </tr>\n",
       "    <tr>\n",
       "      <th>0.25</th>\n",
       "      <td>4.52825</td>\n",
       "      <td>663.75</td>\n",
       "      <td>38.25</td>\n",
       "      <td>25.5</td>\n",
       "      <td>5.00</td>\n",
       "      <td>7315.685023</td>\n",
       "      <td>112.50</td>\n",
       "    </tr>\n",
       "    <tr>\n",
       "      <th>0.50</th>\n",
       "      <td>5.54200</td>\n",
       "      <td>757.50</td>\n",
       "      <td>125.50</td>\n",
       "      <td>82.5</td>\n",
       "      <td>16.00</td>\n",
       "      <td>17709.640335</td>\n",
       "      <td>298.00</td>\n",
       "    </tr>\n",
       "    <tr>\n",
       "      <th>0.75</th>\n",
       "      <td>6.47700</td>\n",
       "      <td>861.50</td>\n",
       "      <td>224.75</td>\n",
       "      <td>142.5</td>\n",
       "      <td>112.75</td>\n",
       "      <td>37530.032610</td>\n",
       "      <td>473.50</td>\n",
       "    </tr>\n",
       "    <tr>\n",
       "      <th>0.90</th>\n",
       "      <td>7.10230</td>\n",
       "      <td>919.80</td>\n",
       "      <td>282.80</td>\n",
       "      <td>213.7</td>\n",
       "      <td>210.30</td>\n",
       "      <td>53195.449936</td>\n",
       "      <td>590.50</td>\n",
       "    </tr>\n",
       "    <tr>\n",
       "      <th>0.95</th>\n",
       "      <td>7.33875</td>\n",
       "      <td>931.90</td>\n",
       "      <td>332.00</td>\n",
       "      <td>245.9</td>\n",
       "      <td>253.15</td>\n",
       "      <td>65374.785289</td>\n",
       "      <td>633.00</td>\n",
       "    </tr>\n",
       "    <tr>\n",
       "      <th>0.99</th>\n",
       "      <td>7.50732</td>\n",
       "      <td>941.95</td>\n",
       "      <td>358.06</td>\n",
       "      <td>326.0</td>\n",
       "      <td>326.61</td>\n",
       "      <td>110858.204537</td>\n",
       "      <td>647.58</td>\n",
       "    </tr>\n",
       "    <tr>\n",
       "      <th>1.00</th>\n",
       "      <td>7.52600</td>\n",
       "      <td>951.00</td>\n",
       "      <td>376.00</td>\n",
       "      <td>373.0</td>\n",
       "      <td>370.00</td>\n",
       "      <td>126898.425900</td>\n",
       "      <td>665.00</td>\n",
       "    </tr>\n",
       "  </tbody>\n",
       "</table>\n",
       "</div>"
      ],
      "text/plain": [
       "      HappinessScore     HDI  Beer_PerCapita  Spirit_PerCapita  \\\n",
       "0.00         3.06900  351.00            1.00               1.0   \n",
       "0.25         4.52825  663.75           38.25              25.5   \n",
       "0.50         5.54200  757.50          125.50              82.5   \n",
       "0.75         6.47700  861.50          224.75             142.5   \n",
       "0.90         7.10230  919.80          282.80             213.7   \n",
       "0.95         7.33875  931.90          332.00             245.9   \n",
       "0.99         7.50732  941.95          358.06             326.0   \n",
       "1.00         7.52600  951.00          376.00             373.0   \n",
       "\n",
       "      Wine_PerCapita  GDP_PerCapita  Alcohol  \n",
       "0.00            1.00     932.172007     5.00  \n",
       "0.25            5.00    7315.685023   112.50  \n",
       "0.50           16.00   17709.640335   298.00  \n",
       "0.75          112.75   37530.032610   473.50  \n",
       "0.90          210.30   53195.449936   590.50  \n",
       "0.95          253.15   65374.785289   633.00  \n",
       "0.99          326.61  110858.204537   647.58  \n",
       "1.00          370.00  126898.425900   665.00  "
      ]
     },
     "execution_count": 55,
     "metadata": {},
     "output_type": "execute_result"
    }
   ],
   "source": [
    "inp1.quantile([0,.25,.5,.75,.9,.95,.99,1])"
   ]
  },
  {
   "cell_type": "code",
   "execution_count": null,
   "id": "9d830fd0",
   "metadata": {},
   "outputs": [],
   "source": []
  },
  {
   "cell_type": "markdown",
   "id": "029f3c51",
   "metadata": {},
   "source": [
    "# CA 3"
   ]
  },
  {
   "cell_type": "markdown",
   "id": "828f3cbe",
   "metadata": {},
   "source": [
    "## Multivariate Analysis"
   ]
  },
  {
   "cell_type": "markdown",
   "id": "4fff5617",
   "metadata": {},
   "source": [
    "### Alcohol consumption Vs GDP Vs HappinessCat"
   ]
  },
  {
   "cell_type": "code",
   "execution_count": 88,
   "id": "a2e1ac50",
   "metadata": {},
   "outputs": [
    {
     "name": "stdout",
     "output_type": "stream",
     "text": [
      "32    Qatar\n",
      "Name: Country, dtype: object\n"
     ]
    },
    {
     "data": {
      "image/png": "[encoded data removed]",
      "text/plain": [
       "<Figure size 432x288 with 1 Axes>"
      ]
     },
     "metadata": {
      "needs_background": "light"
     },
     "output_type": "display_data"
    }
   ],
   "source": [
    "sns.scatterplot(inp1.Alcohol, inp1.GDP_PerCapita,hue= inp1.HappinessCat)"
   ]
  },
  {
   "cell_type": "code",
   "execution_count": null,
   "id": "119dd754",
   "metadata": {},
   "outputs": [],
   "source": []
  },
  {
   "cell_type": "markdown",
   "id": "b78931a1",
   "metadata": {},
   "source": [
    "Here we can see, Mostly unhappy countries are low on GDP as well as alcohol consumption.\n",
    "\n",
    "And happiest countries lies from 300-600L per capita Alcohol consumption"
   ]
  },
  {
   "cell_type": "code",
   "execution_count": 89,
   "id": "d9ca42b8",
   "metadata": {},
   "outputs": [
    {
     "data": {
      "text/plain": [
       "32    Qatar\n",
       "Name: Country, dtype: object"
      ]
     },
     "execution_count": 89,
     "metadata": {},
     "output_type": "execute_result"
    }
   ],
   "source": [
    "inp1[ inp1.GDP_PerCapita > 120000].Country"
   ]
  },
  {
   "cell_type": "markdown",
   "id": "7acf2dce",
   "metadata": {},
   "source": [
    "Qatar has 120000+ GDP per capita and Above Average happiness index but are very low in alcohol consumption"
   ]
  },
  {
   "cell_type": "markdown",
   "id": "122b2841",
   "metadata": {},
   "source": [
    "### Alcohol consumption Vs HDI Vs HappinessCat"
   ]
  },
  {
   "cell_type": "code",
   "execution_count": 61,
   "id": "98f2a243",
   "metadata": {},
   "outputs": [
    {
     "data": {
      "text/plain": [
       "<AxesSubplot:xlabel='Alcohol', ylabel='HDI'>"
      ]
     },
     "execution_count": 61,
     "metadata": {},
     "output_type": "execute_result"
    },
    {
     "data": {
      "image/png": "[encoded data removed]",
      "text/plain": [
       "<Figure size 432x288 with 1 Axes>"
      ]
     },
     "metadata": {
      "needs_background": "light"
     },
     "output_type": "display_data"
    }
   ],
   "source": [
    "sns.scatterplot(inp1.Alcohol, inp1.HDI,hue= inp1.HappinessCat)"
   ]
  },
  {
   "cell_type": "markdown",
   "id": "48a3e9d9",
   "metadata": {},
   "source": [
    "Here we can see mostly Low HDI countries are consuming less alcohol and are also low in happiness index.\n",
    "\n",
    "But we can't neglect there are a few countries which have high alcohol consumption but are still in sad category."
   ]
  },
  {
   "cell_type": "code",
   "execution_count": 66,
   "id": "d89df41f",
   "metadata": {},
   "outputs": [
    {
     "data": {
      "text/plain": [
       "92     South Africa\n",
       "96          Ukraine\n",
       "99          Georgia\n",
       "102        Bulgaria\n",
       "105           Gabon\n",
       "107           Haiti\n",
       "112          Angola\n",
       "Name: Country, dtype: object"
      ]
     },
     "execution_count": 66,
     "metadata": {},
     "output_type": "execute_result"
    }
   ],
   "source": [
    "inp1[(inp1.HappinessCat == \"Bad\") & (inp1.Alcohol > 300)].Country"
   ]
  },
  {
   "cell_type": "markdown",
   "id": "76aadde7",
   "metadata": {},
   "source": [
    "These are the countries whose alcohol consumption is more than average but are still in sad category"
   ]
  },
  {
   "cell_type": "code",
   "execution_count": 82,
   "id": "13d4c0bd",
   "metadata": {},
   "outputs": [
    {
     "name": "stdout",
     "output_type": "stream",
     "text": [
      "\n",
      "average HDI= 740.8770491803278\n",
      "average GDP per capita= 24430.95275328525\n"
     ]
    },
    {
     "data": {
      "text/html": [
       "<div>\n",
       "<style scoped>\n",
       "    .dataframe tbody tr th:only-of-type {\n",
       "        vertical-align: middle;\n",
       "    }\n",
       "\n",
       "    .dataframe tbody tr th {\n",
       "        vertical-align: top;\n",
       "    }\n",
       "\n",
       "    .dataframe thead th {\n",
       "        text-align: right;\n",
       "    }\n",
       "</style>\n",
       "<table border=\"1\" class=\"dataframe\">\n",
       "  <thead>\n",
       "    <tr style=\"text-align: right;\">\n",
       "      <th></th>\n",
       "      <th>Country</th>\n",
       "      <th>HDI</th>\n",
       "      <th>GDP_PerCapita</th>\n",
       "    </tr>\n",
       "  </thead>\n",
       "  <tbody>\n",
       "    <tr>\n",
       "      <th>92</th>\n",
       "      <td>South Africa</td>\n",
       "      <td>696</td>\n",
       "      <td>13686.882360</td>\n",
       "    </tr>\n",
       "    <tr>\n",
       "      <th>96</th>\n",
       "      <td>Ukraine</td>\n",
       "      <td>746</td>\n",
       "      <td>9249.462135</td>\n",
       "    </tr>\n",
       "    <tr>\n",
       "      <th>99</th>\n",
       "      <td>Georgia</td>\n",
       "      <td>776</td>\n",
       "      <td>12004.573830</td>\n",
       "    </tr>\n",
       "    <tr>\n",
       "      <th>102</th>\n",
       "      <td>Bulgaria</td>\n",
       "      <td>810</td>\n",
       "      <td>21960.369940</td>\n",
       "    </tr>\n",
       "    <tr>\n",
       "      <th>105</th>\n",
       "      <td>Gabon</td>\n",
       "      <td>698</td>\n",
       "      <td>17875.761150</td>\n",
       "    </tr>\n",
       "    <tr>\n",
       "      <th>107</th>\n",
       "      <td>Haiti</td>\n",
       "      <td>496</td>\n",
       "      <td>1866.617589</td>\n",
       "    </tr>\n",
       "    <tr>\n",
       "      <th>112</th>\n",
       "      <td>Angola</td>\n",
       "      <td>577</td>\n",
       "      <td>6452.355165</td>\n",
       "    </tr>\n",
       "  </tbody>\n",
       "</table>\n",
       "</div>"
      ],
      "text/plain": [
       "          Country  HDI  GDP_PerCapita\n",
       "92   South Africa  696   13686.882360\n",
       "96        Ukraine  746    9249.462135\n",
       "99        Georgia  776   12004.573830\n",
       "102      Bulgaria  810   21960.369940\n",
       "105         Gabon  698   17875.761150\n",
       "107         Haiti  496    1866.617589\n",
       "112        Angola  577    6452.355165"
      ]
     },
     "execution_count": 82,
     "metadata": {},
     "output_type": "execute_result"
    }
   ],
   "source": [
    "print(f\"\\naverage HDI= {inp1.HDI.mean()}\")\n",
    "print(f\"average GDP per capita= {inp1.GDP_PerCapita.mean()}\")\n",
    "inp1[(inp1.HappinessCat == \"Bad\") & (inp1.Alcohol > 300)][[\"Country\", \"HDI\",\"GDP_PerCapita\"]]"
   ]
  },
  {
   "cell_type": "markdown",
   "id": "3da430ba",
   "metadata": {},
   "source": [
    "We can see all these countries have near average HDI but their GDP per capita is far less than average\n",
    "\n",
    "Maybe that pushes them closer to unhappiness"
   ]
  },
  {
   "cell_type": "markdown",
   "id": "99f2fef0",
   "metadata": {},
   "source": [
    "### What drinks happy countries drink?"
   ]
  },
  {
   "cell_type": "code",
   "execution_count": 102,
   "id": "4a9b361a",
   "metadata": {},
   "outputs": [
    {
     "data": {
      "text/html": [
       "<div>\n",
       "<style scoped>\n",
       "    .dataframe tbody tr th:only-of-type {\n",
       "        vertical-align: middle;\n",
       "    }\n",
       "\n",
       "    .dataframe tbody tr th {\n",
       "        vertical-align: top;\n",
       "    }\n",
       "\n",
       "    .dataframe thead th {\n",
       "        text-align: right;\n",
       "    }\n",
       "</style>\n",
       "<table border=\"1\" class=\"dataframe\">\n",
       "  <thead>\n",
       "    <tr style=\"text-align: right;\">\n",
       "      <th></th>\n",
       "      <th>Country</th>\n",
       "      <th>HappinessScore</th>\n",
       "      <th>Beer_PerCapita</th>\n",
       "      <th>Spirit_PerCapita</th>\n",
       "      <th>Wine_PerCapita</th>\n",
       "      <th>Alcohol</th>\n",
       "    </tr>\n",
       "  </thead>\n",
       "  <tbody>\n",
       "    <tr>\n",
       "      <th>0</th>\n",
       "      <td>Denmark</td>\n",
       "      <td>7.526</td>\n",
       "      <td>224</td>\n",
       "      <td>81</td>\n",
       "      <td>278</td>\n",
       "      <td>583</td>\n",
       "    </tr>\n",
       "    <tr>\n",
       "      <th>1</th>\n",
       "      <td>Switzerland</td>\n",
       "      <td>7.509</td>\n",
       "      <td>185</td>\n",
       "      <td>100</td>\n",
       "      <td>280</td>\n",
       "      <td>565</td>\n",
       "    </tr>\n",
       "    <tr>\n",
       "      <th>2</th>\n",
       "      <td>Iceland</td>\n",
       "      <td>7.501</td>\n",
       "      <td>233</td>\n",
       "      <td>61</td>\n",
       "      <td>78</td>\n",
       "      <td>372</td>\n",
       "    </tr>\n",
       "    <tr>\n",
       "      <th>3</th>\n",
       "      <td>Norway</td>\n",
       "      <td>7.498</td>\n",
       "      <td>169</td>\n",
       "      <td>71</td>\n",
       "      <td>129</td>\n",
       "      <td>369</td>\n",
       "    </tr>\n",
       "    <tr>\n",
       "      <th>4</th>\n",
       "      <td>Finland</td>\n",
       "      <td>7.413</td>\n",
       "      <td>263</td>\n",
       "      <td>133</td>\n",
       "      <td>97</td>\n",
       "      <td>493</td>\n",
       "    </tr>\n",
       "    <tr>\n",
       "      <th>5</th>\n",
       "      <td>Canada</td>\n",
       "      <td>7.404</td>\n",
       "      <td>240</td>\n",
       "      <td>122</td>\n",
       "      <td>100</td>\n",
       "      <td>462</td>\n",
       "    </tr>\n",
       "    <tr>\n",
       "      <th>6</th>\n",
       "      <td>Netherlands</td>\n",
       "      <td>7.339</td>\n",
       "      <td>251</td>\n",
       "      <td>88</td>\n",
       "      <td>190</td>\n",
       "      <td>529</td>\n",
       "    </tr>\n",
       "    <tr>\n",
       "      <th>7</th>\n",
       "      <td>New Zealand</td>\n",
       "      <td>7.334</td>\n",
       "      <td>203</td>\n",
       "      <td>79</td>\n",
       "      <td>175</td>\n",
       "      <td>457</td>\n",
       "    </tr>\n",
       "    <tr>\n",
       "      <th>8</th>\n",
       "      <td>Australia</td>\n",
       "      <td>7.313</td>\n",
       "      <td>261</td>\n",
       "      <td>72</td>\n",
       "      <td>212</td>\n",
       "      <td>545</td>\n",
       "    </tr>\n",
       "    <tr>\n",
       "      <th>9</th>\n",
       "      <td>Sweden</td>\n",
       "      <td>7.291</td>\n",
       "      <td>152</td>\n",
       "      <td>60</td>\n",
       "      <td>186</td>\n",
       "      <td>398</td>\n",
       "    </tr>\n",
       "  </tbody>\n",
       "</table>\n",
       "</div>"
      ],
      "text/plain": [
       "       Country  HappinessScore  Beer_PerCapita  Spirit_PerCapita  \\\n",
       "0      Denmark           7.526             224                81   \n",
       "1  Switzerland           7.509             185               100   \n",
       "2      Iceland           7.501             233                61   \n",
       "3       Norway           7.498             169                71   \n",
       "4      Finland           7.413             263               133   \n",
       "5       Canada           7.404             240               122   \n",
       "6  Netherlands           7.339             251                88   \n",
       "7  New Zealand           7.334             203                79   \n",
       "8    Australia           7.313             261                72   \n",
       "9       Sweden           7.291             152                60   \n",
       "\n",
       "   Wine_PerCapita  Alcohol  \n",
       "0             278      583  \n",
       "1             280      565  \n",
       "2              78      372  \n",
       "3             129      369  \n",
       "4              97      493  \n",
       "5             100      462  \n",
       "6             190      529  \n",
       "7             175      457  \n",
       "8             212      545  \n",
       "9             186      398  "
      ]
     },
     "execution_count": 102,
     "metadata": {},
     "output_type": "execute_result"
    }
   ],
   "source": [
    "inp2= inp1[(inp1.HappinessCat == \"Good\") & (inp1.Alcohol > 300)]\\\n",
    "[[\"Country\",\"HappinessScore\", \"Beer_PerCapita\",\"Spirit_PerCapita\",\"Wine_PerCapita\", \"Alcohol\"]]\\\n",
    ".head(10).sort_values(by=['HappinessScore'],ascending=False)\n",
    "inp2"
   ]
  },
  {
   "cell_type": "markdown",
   "id": "7e468865",
   "metadata": {},
   "source": [
    "### What is the GDP and HDI of happiest countries"
   ]
  },
  {
   "cell_type": "code",
   "execution_count": 106,
   "id": "5cdd0257",
   "metadata": {
    "scrolled": true
   },
   "outputs": [
    {
     "data": {
      "text/html": [
       "<div>\n",
       "<style scoped>\n",
       "    .dataframe tbody tr th:only-of-type {\n",
       "        vertical-align: middle;\n",
       "    }\n",
       "\n",
       "    .dataframe tbody tr th {\n",
       "        vertical-align: top;\n",
       "    }\n",
       "\n",
       "    .dataframe thead th {\n",
       "        text-align: right;\n",
       "    }\n",
       "</style>\n",
       "<table border=\"1\" class=\"dataframe\">\n",
       "  <thead>\n",
       "    <tr style=\"text-align: right;\">\n",
       "      <th></th>\n",
       "      <th>HDI</th>\n",
       "      <th>GDP_PerCapita</th>\n",
       "      <th>HappinessScore</th>\n",
       "    </tr>\n",
       "  </thead>\n",
       "  <tbody>\n",
       "    <tr>\n",
       "      <th>HDI</th>\n",
       "      <td>1.000000</td>\n",
       "      <td>0.875920</td>\n",
       "      <td>0.377822</td>\n",
       "    </tr>\n",
       "    <tr>\n",
       "      <th>GDP_PerCapita</th>\n",
       "      <td>0.875920</td>\n",
       "      <td>1.000000</td>\n",
       "      <td>0.615369</td>\n",
       "    </tr>\n",
       "    <tr>\n",
       "      <th>HappinessScore</th>\n",
       "      <td>0.377822</td>\n",
       "      <td>0.615369</td>\n",
       "      <td>1.000000</td>\n",
       "    </tr>\n",
       "  </tbody>\n",
       "</table>\n",
       "</div>"
      ],
      "text/plain": [
       "                     HDI  GDP_PerCapita  HappinessScore\n",
       "HDI             1.000000       0.875920        0.377822\n",
       "GDP_PerCapita   0.875920       1.000000        0.615369\n",
       "HappinessScore  0.377822       0.615369        1.000000"
      ]
     },
     "execution_count": 106,
     "metadata": {},
     "output_type": "execute_result"
    }
   ],
   "source": [
    "inp1[(inp1.HappinessCat == \"Good\")]\\\n",
    "[[\"Country\",\"HDI\", \"GDP_PerCapita\",\"HappinessScore\"]]\\\n",
    ".head(10).sort_values(by=['HappinessScore'],ascending=False).corr()"
   ]
  },
  {
   "cell_type": "code",
   "execution_count": null,
   "id": "ace2c539",
   "metadata": {},
   "outputs": [],
   "source": []
  }
 ],
 "metadata": {
  "kernelspec": {
   "display_name": "Python 3 (ipykernel)",
   "language": "python",
   "name": "python3"
  },
  "language_info": {
   "codemirror_mode": {
    "name": "ipython",
    "version": 3
   },
   "file_extension": ".py",
   "mimetype": "text/x-python",
   "name": "python",
   "nbconvert_exporter": "python",
   "pygments_lexer": "ipython3",
   "version": "3.9.12"
  }
 },
 "nbformat": 4,
 "nbformat_minor": 5
}
